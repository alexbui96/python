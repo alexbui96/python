{
 "cells": [
  {
   "cell_type": "markdown",
   "metadata": {},
   "source": [
    "# Homework 3"
   ]
  },
  {
   "cell_type": "markdown",
   "metadata": {},
   "source": [
    "(100 points total)\n",
    "\n",
    "In this homework, we use Jupyter Notebook to practice basic data types, data structures, controls, and functions in Python."
   ]
  },
  {
   "cell_type": "markdown",
   "metadata": {},
   "source": [
    "\n",
    "Some useful short-cuts in Jupyter:\n",
    " * shift+enter = run cell and jump to the next (creating a new cell if there is no other new one)\n",
    " * ctrl+enter = run cell-in place\n",
    " * alt+enter = run cell and insert a new one below\n",
    " * ctrl+m h lists other commands\n"
   ]
  },
  {
   "cell_type": "markdown",
   "metadata": {},
   "source": [
    "## 1. Exclusive Or\n",
    "(10 points)\n",
    "The \"exclusive or\" (xor) operator of `a` and `b` returns true if only one of `a` and `b` is true, and false if `a` and `b` are either both true and both false. The following table summarizes this.\n",
    "\n",
    "   `a`   |   `b`   | `a` xor `b`\n",
    "   ----- | ------- | -----------\n",
    "   True  |   True  | False\n",
    "   True  |   False | True\n",
    "   False |   True  | True\n",
    "   False |   False | False\n",
    "\n",
    "Python does not have a built-in operator for exclusive or. In this exercise, we practice to express the xor operator in two ways.\n",
    "\n",
    "First, write a notebook cell below to define two Booleans variables `a` and `b`."
   ]
  },
  {
   "cell_type": "code",
   "execution_count": 12,
   "metadata": {
    "collapsed": true
   },
   "outputs": [],
   "source": [
    "a = True\n",
    "b = False"
   ]
  },
  {
   "cell_type": "markdown",
   "metadata": {},
   "source": [
    "Express the xor of `a` and `b` using the Boolean operators `and`, `or`, and `not`. Use the `print` function to print the result."
   ]
  },
  {
   "cell_type": "code",
   "execution_count": 14,
   "metadata": {
    "collapsed": true
   },
   "outputs": [
    {
     "name": "stdout",
     "output_type": "stream",
     "text": [
      "True\n"
     ]
    }
   ],
   "source": [
    "xor = (a or b) and not(a and b)\n",
    "\n",
    "print(xor)"
   ]
  },
  {
   "cell_type": "markdown",
   "metadata": {},
   "source": [
    "Try to express the xor of `a` and `b` as concisely as possible using any of the following operators:\n",
    "- `==`\n",
    "- `is`\n",
    "- `not`\n",
    "- `!=`.\n",
    "\n",
    "Use the `print` function to print the result."
   ]
  },
  {
   "cell_type": "code",
   "execution_count": null,
   "metadata": {
    "collapsed": true
   },
   "outputs": [],
   "source": []
  },
  {
   "cell_type": "markdown",
   "metadata": {},
   "source": [
    "## 2. Strings\n",
    "\n",
    "(10 points) In this exercise, we learn to manipulate character strings."
   ]
  },
  {
   "cell_type": "code",
   "execution_count": 19,
   "metadata": {},
   "outputs": [],
   "source": [
    "s = \"in Matlab, the '\\\\' operator can solve the so-called \\\"linear least squares\\\" problem.\""
   ]
  },
  {
   "cell_type": "markdown",
   "metadata": {},
   "source": [
    "Replace the first character of `s` by 'I'. Note that `s[0]='I'` is invalid. Instead, redefine `s` by concatenating the character 'I' and the substring of `s` starting from its second character."
   ]
  },
  {
   "cell_type": "code",
   "execution_count": null,
   "metadata": {
    "collapsed": true
   },
   "outputs": [],
   "source": []
  },
  {
   "cell_type": "markdown",
   "metadata": {},
   "source": [
    "Use the `replace` method of the `str` class to replace \"Matlab\" with \"MATLAB\" in `s`."
   ]
  },
  {
   "cell_type": "code",
   "execution_count": 20,
   "metadata": {
    "collapsed": true
   },
   "outputs": [
    {
     "name": "stdout",
     "output_type": "stream",
     "text": [
      "in MATLAB, the '\\' operator can solve the so-called \"linear least squares\" problem.\n"
     ]
    }
   ],
   "source": [
    "s.replace(\"Matlab\",\"MATLAB\")"
   ]
  },
  {
   "cell_type": "markdown",
   "metadata": {},
   "source": [
    "## 3. Dictionary\n",
    "\n",
    "(10 points)\n",
    "Define a variable `elements` of the `dict` class to map the element names to their corresponding symbols:\n",
    "\n",
    "\n",
    "   Name | Symbol\n",
    "   ---- | ------\n",
    "   Hydrogen | H\n",
    "   Helium   | He\n",
    "   Lithium  | Li\n",
    "   Berllium | Be\n",
    "   Boron    | B\n",
    "   Carbon   | C\n",
    "   Nitrogen | N\n",
    "   Oxygen   | O\n",
    "   Flourine | F\n",
    "   Neon     | Ne\n",
    "\n",
    "Test your implementation by printing `elements['Flourine']`, `elements['Lithium']`, etc."
   ]
  },
  {
   "cell_type": "code",
   "execution_count": 3,
   "metadata": {
    "collapsed": true
   },
   "outputs": [
    {
     "name": "stdout",
     "output_type": "stream",
     "text": [
      "F Li\n"
     ]
    }
   ],
   "source": [
    "elements = {\"Hydrogen\": \"H\",\n",
    "            \"Helium\": \"He\",\n",
    "            \"Lithium\": \"Li\",\n",
    "            \"Berllium\": \"Be\",\n",
    "            \"Boron\": \"B\",\n",
    "            \"Carbon\": \"C\",\n",
    "            \"Nitrogen\": \"N\",\n",
    "            \"Oxygen\": \"O\",\n",
    "            \"Flourine\": \"F\",\n",
    "            \"Neon\": \"Ne\"}\n",
    "\n",
    "print(elements['Flourine'], elements['Lithium'])"
   ]
  },
  {
   "cell_type": "markdown",
   "metadata": {},
   "source": [
    "Define an inverse mapping from the symbols to the names from `elements.values` and `elements.keys`, without using a loop. (You are allowed to search online for hints.)"
   ]
  },
  {
   "cell_type": "markdown",
   "metadata": {},
   "source": [
    "## 4. Conditional Statements\n",
    "\n",
    "(15 points)\n",
    "Translate the following MATLAB code into Python using `if-elif-else`. \n",
    "```\n",
    "n = input('Enter a number: ');\n",
    "\n",
    "switch n\n",
    "    case -1\n",
    "        disp('negative one')\n",
    "    case 0\n",
    "        disp('zero')\n",
    "    case 1\n",
    "        disp('positive one')\n",
    "    otherwise\n",
    "        disp('other value')\n",
    "end\n",
    "```\n",
    "\n",
    "Note that the input command can be literally translated to\n",
    "```\n",
    "n = int(input('Enter a number: '))\n",
    "```\n",
    "which allow you to enter a number interactively inside Jupyter Notebook."
   ]
  },
  {
   "cell_type": "code",
   "execution_count": 5,
   "metadata": {
    "collapsed": true
   },
   "outputs": [
    {
     "name": "stdout",
     "output_type": "stream",
     "text": [
      "other value\n"
     ]
    }
   ],
   "source": [
    "n = int(input('Enter a number: '))\n",
    "\n",
    "if n == -1:\n",
    "    print('negative one')\n",
    "elif n == 0:\n",
    "    print('zero')\n",
    "elif n == 1:\n",
    "    print('positive one')\n",
    "else:\n",
    "    print('other value')"
   ]
  },
  {
   "cell_type": "markdown",
   "metadata": {},
   "source": [
    "## 5. While Loops\n",
    "\n",
    "(15 points) Each new term in the Fibonacci sequence is generated by adding the previous two terms. By starting with 1 and 2, the first 10 terms will be:\n",
    "\n",
    "```1, 2, 3, 5, 8, 13, 21, 34, 55, 89, ...```\n",
    "\n",
    "Write a while-loop to construct a list of the numbers in the Fibonacci sequence whose values do not exceed 4,000,000."
   ]
  },
  {
   "cell_type": "code",
   "execution_count": 10,
   "metadata": {
    "collapsed": true
   },
   "outputs": [
    {
     "name": "stdout",
     "output_type": "stream",
     "text": [
      "[1, 2, 3, 5, 8, 13, 21, 34, 55, 89, 144, 233, 377, 610, 987, 1597, 2584, 4181, 6765, 10946, 17711, 28657, 46368, 75025, 121393, 196418, 317811, 514229, 832040, 1346269, 2178309, 3524578, 5702887]\n"
     ]
    }
   ],
   "source": [
    "fib_seq = [1, 2]\n",
    "last_ind = 1\n",
    "\n",
    "while fib_seq[last_ind] <= 4000000:\n",
    "    \n",
    "    temp = fib_seq[last_ind - 1] + fib_seq[last_ind]\n",
    "    fib_seq.append(temp)\n",
    "    \n",
    "    last_ind = len(fib_seq) - 1\n",
    "    \n",
    "print(fib_seq)\n",
    "\n"
   ]
  },
  {
   "cell_type": "markdown",
   "metadata": {},
   "source": [
    "## 6. List Comprehension\n",
    "\n",
    "(10 points) A palindrome is a word, phrase, number, or other sequence of characters which reads the same backward or forward. \n",
    "\n",
    "Use list comprehension to generate a list of palindrome made from the product of two 3-digit numbers.\n",
    "In other words, generate a list of numbers $x*y$ for $100 \\leq x \\leq 999$ and $100 \\leq y \\leq 999$,\n",
    "such that the character string corresponding to $x*y$ is a palindrome. For example, 17271=101*171\n",
    "is palindrome.\n",
    "\n",
    "If you have difficulties using list comprehension, you can also\n",
    "write a double-`for` loop to create the list for up to 70% of the credit for this problem.\n",
    "\n",
    "Hint: if `x` and `y` are two integers, you can use `str(x*y) == str(y*x)[::-1]` to determine\n",
    "whether `x * y` is a palindrome."
   ]
  },
  {
   "cell_type": "code",
   "execution_count": null,
   "metadata": {},
   "outputs": [],
   "source": []
  },
  {
   "cell_type": "markdown",
   "metadata": {},
   "source": [
    "## 7. Functions\n",
    "\n",
    "7a (10 points) Write a function that determines if a number is prime."
   ]
  },
  {
   "cell_type": "code",
   "execution_count": null,
   "metadata": {},
   "outputs": [],
   "source": [
    "def isprime(n):\n",
    "    # Finish this function\n",
    "    # ...\n",
    "    return True"
   ]
  },
  {
   "cell_type": "code",
   "execution_count": null,
   "metadata": {
    "collapsed": true
   },
   "outputs": [],
   "source": [
    "# test codes\n",
    "print(isprime(2))\n",
    "print(isprime(10))\n",
    "print(isprime(17))"
   ]
  },
  {
   "cell_type": "markdown",
   "metadata": {
    "collapsed": true
   },
   "source": [
    "7b. (10 points) Write a function that finds all the factors of a number."
   ]
  },
  {
   "cell_type": "code",
   "execution_count": null,
   "metadata": {
    "collapsed": true
   },
   "outputs": [],
   "source": [
    "def factorize(n):\n",
    "    answer = []\n",
    "    # Finish this function\n",
    "    # ...\n",
    "    return answer"
   ]
  },
  {
   "cell_type": "code",
   "execution_count": null,
   "metadata": {
    "collapsed": true
   },
   "outputs": [],
   "source": [
    "# test codes\n",
    "print(factorize(2))\n",
    "print(factorize(72))\n",
    "print(factorize(196))"
   ]
  },
  {
   "cell_type": "markdown",
   "metadata": {},
   "source": [
    "7c. (10 points) Write a function that finds the prime factorization of a number."
   ]
  },
  {
   "cell_type": "code",
   "execution_count": null,
   "metadata": {
    "collapsed": true
   },
   "outputs": [],
   "source": [
    "def prime_factorize(n):\n",
    "    answer = []\n",
    "    # Finish this function\n",
    "    # ...\n",
    "    return answer"
   ]
  },
  {
   "cell_type": "code",
   "execution_count": null,
   "metadata": {
    "collapsed": true
   },
   "outputs": [],
   "source": [
    "# test codes\n",
    "print(prime_factorize(2))\n",
    "print(prime_factorize(72))\n",
    "print(prime_factorize(196))"
   ]
  }
 ],
 "metadata": {
  "anaconda-cloud": {},
  "interpreter": {
   "hash": "70bd44d7b8936ce0ef5a810747a06bf791e34f7a77e3db5d7c719fb02184a935"
  },
  "kernelspec": {
   "display_name": "Python 3.10.4 64-bit",
   "language": "python",
   "name": "python3"
  },
  "language_info": {
   "codemirror_mode": {
    "name": "ipython",
    "version": 3
   },
   "file_extension": ".py",
   "mimetype": "text/x-python",
   "name": "python",
   "nbconvert_exporter": "python",
   "pygments_lexer": "ipython3",
   "version": "3.10.4"
  }
 },
 "nbformat": 4,
 "nbformat_minor": 2
}
