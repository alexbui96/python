{
 "cells": [
  {
   "cell_type": "code",
   "execution_count": 6,
   "metadata": {},
   "outputs": [],
   "source": [
    "import matplotlib.pyplot as plt\n",
    "import numpy as np\n",
    "import pandas as pd\n"
   ]
  },
  {
   "cell_type": "code",
   "execution_count": null,
   "metadata": {},
   "outputs": [],
   "source": [
    "N_max = 50\n",
    "threshold = 50\n",
    "\n",
    "x = np.linspace(-2,1,N_max)\n",
    "y = np.linspace(-1.5,1.5, N_max)\n",
    "\n",
    "\n",
    "c = x + 1j*y\n",
    "\n",
    "z = 0\n",
    "\n",
    "for j in range(N_max):\n",
    "    z = z**2 + c\n",
    "    mandelbrot_set = (abs(z) < threshold)\n",
    "    \n",
    "print(mandelbrot_set)"
   ]
  }
 ],
 "metadata": {
  "interpreter": {
   "hash": "70bd44d7b8936ce0ef5a810747a06bf791e34f7a77e3db5d7c719fb02184a935"
  },
  "kernelspec": {
   "display_name": "Python 3.10.4 64-bit",
   "language": "python",
   "name": "python3"
  },
  "language_info": {
   "codemirror_mode": {
    "name": "ipython",
    "version": 3
   },
   "file_extension": ".py",
   "mimetype": "text/x-python",
   "name": "python",
   "nbconvert_exporter": "python",
   "pygments_lexer": "ipython3",
   "version": "3.10.4"
  },
  "orig_nbformat": 4
 },
 "nbformat": 4,
 "nbformat_minor": 2
}
