{
 "cells": [
  {
   "cell_type": "code",
   "execution_count": 2,
   "metadata": {},
   "outputs": [
    {
     "name": "stdout",
     "output_type": "stream",
     "text": [
      "False False False True True\n",
      "False False True True True\n",
      "False True False True False\n",
      "False True True True True\n",
      "True False False False True\n",
      "True False True True True\n",
      "True True False False False\n",
      "True True True True True\n"
     ]
    }
   ],
   "source": [
    "list= [(bool(x),bool(y), bool(z)) for x in range(0,2) for y in range(0,2) for z in range(0,2)]\n",
    "\n",
    "# Print a complete \"xor\" table\n",
    "for i in range (0, 8):\n",
    "    x = list[i][0]\n",
    "    y = list[i][1]\n",
    "    z = list[i][2]\n",
    "    \n",
    "    print(x,y,z, not x or z, not y or z)"
   ]
  }
 ],
 "metadata": {
  "interpreter": {
   "hash": "70bd44d7b8936ce0ef5a810747a06bf791e34f7a77e3db5d7c719fb02184a935"
  },
  "kernelspec": {
   "display_name": "Python 3.10.4 64-bit",
   "language": "python",
   "name": "python3"
  },
  "language_info": {
   "codemirror_mode": {
    "name": "ipython",
    "version": 3
   },
   "file_extension": ".py",
   "mimetype": "text/x-python",
   "name": "python",
   "nbconvert_exporter": "python",
   "pygments_lexer": "ipython3",
   "version": "3.10.4"
  },
  "orig_nbformat": 4
 },
 "nbformat": 4,
 "nbformat_minor": 2
}
