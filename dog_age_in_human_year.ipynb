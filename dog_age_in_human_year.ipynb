{
 "cells": [
  {
   "cell_type": "markdown",
   "metadata": {
    "deletable": false,
    "editable": false,
    "nbgrader": {
     "cell_type": "markdown",
     "checksum": "154f81026f072af580cc46b9513afb32",
     "grade": false,
     "grade_id": "cell-37b1bbf6f43609e8",
     "locked": true,
     "schema_version": 3,
     "solution": false,
     "task": false
    }
   },
   "source": [
    "## “How Old is Your Dog in Human Years?” Calculator\n",
    "\n",
    "In this assignment, you will write a program that calculates a dog’s age in human years.\n",
    "The program will prompt the user for an age in dog years and calculate that age in human years.\n",
    "Allow for int or float values, but check the user’s input to make sure it's valid -- it should be numeric and positive.\n",
    "Otherwise, let the user know their input is not valid.\n",
    "\n",
    "You can use the following rules to approximately convert a medium-sized dog’s age to human years:\n",
    "- For the first year, one dog year is equal to 15 human years\n",
    "- For the first 2 years, each dog year is equal to 12 human years\n",
    "- For the first 3 years, each dog year is equal to 9.3 human years\n",
    "- For the first 4 years, each dog year is equal to 8 human years\n",
    "- For the first 5 years, each dog year is equal to 7.2 human years\n",
    "- After that, each dog year is equal to 7 human years.  (Note: This means the first 5 dog years are\n",
    "equal to 36 human years (5 * 7.2) and the remaining dog years are equal to 7 human years each.)\n",
    "\n",
    "Print the result in the following format, substituting for **dog_age** and **human_age**: \"The given dog age **dog_age**\n",
    "is **human_age** in human years.\"  Round the result to 2 decimal places.  Note: If there is a 0 in the hundredths place,\n",
    "you can drop it, e.g. 24.00 can be displayed as 24.0."
   ]
  },
  {
   "cell_type": "code",
   "execution_count": 1,
   "metadata": {
    "deletable": false,
    "name": "multiply",
    "nbgrader": {
     "cell_type": "code",
     "checksum": "9ef53ed7a44f5b2073eeea241310e43c",
     "grade": false,
     "grade_id": "dog",
     "locked": false,
     "schema_version": 3,
     "solution": true,
     "task": false
    }
   },
   "outputs": [
    {
     "name": "stdout",
     "output_type": "stream",
     "text": [
      "The given dog age 5 is 36.0 in human years.\n"
     ]
    }
   ],
   "source": [
    "import traceback\n",
    "\n",
    "def calculator():\n",
    "    \n",
    "    # Get dog age\n",
    "    age = input(\"Input dog years: \")\n",
    "\n",
    "    try:\n",
    "        # Cast to float\n",
    "        d_age = float(age)\n",
    "        # If user enters negative number, print message\n",
    "        if(d_age < 0): \n",
    "            print(\"Age cannot be a negative number\", age)\n",
    "        # Otherwise, calculate dog's age in human years\n",
    "        # your code here\n",
    "        elif(d_age > 5): \n",
    "            h_age = 36 + (d_age - 5) * 7\n",
    "        elif(d_age > 4): \n",
    "            h_age = d_age * 7.2\n",
    "        elif(d_age > 3): \n",
    "            h_age = d_age * 8\n",
    "        elif(d_age > 2): \n",
    "            h_age = d_age * 9.3\n",
    "        elif(d_age > 1): \n",
    "            h_age = d_age * 12\n",
    "        elif(d_age >= 0): \n",
    "            h_age = d_age * 15\n",
    "        print(\"The given dog age\", age,\"is\", round(h_age,2), \"in human years.\")\n",
    "    except:\n",
    "        print(age, \"is an invalid age.\")\n",
    "        print(traceback.format_exc())\n",
    "    \n",
    "calculator() # This line calls the calculator function"
   ]
  }
 ],
 "metadata": {
  "interpreter": {
   "hash": "aee8b7b246df8f9039afb4144a1f6fd8d2ca17a180786b69acc140d282b71a49"
  },
  "kernelspec": {
   "display_name": "Python 3.9.5 64-bit",
   "language": "python",
   "name": "python3"
  },
  "language_info": {
   "codemirror_mode": {
    "name": "ipython",
    "version": 3
   },
   "file_extension": ".py",
   "mimetype": "text/x-python",
   "name": "python",
   "nbconvert_exporter": "python",
   "pygments_lexer": "ipython3",
   "version": "3.9.5"
  }
 },
 "nbformat": 4,
 "nbformat_minor": 2
}
