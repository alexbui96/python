{
 "cells": [
  {
   "cell_type": "markdown",
   "metadata": {},
   "source": [
    "# AMS 325 Homework 5\n",
    "\n",
    "This homework uses pacakges `sympy`, `numpy`, `scipy`, `pandas`. There are 100 points plus 30 bonus points."
   ]
  },
  {
   "cell_type": "markdown",
   "metadata": {},
   "source": [
    "## Problem 1 (20 points + 5 bonus points) Root finding\n",
    "\n",
    "Here is a cubic polynomial with three closely spaced real roots:\n",
    "\n",
    "$$ p(x) = 816 x^3 - 3835 x^2 + 6000 x - 3125 $$\n",
    "\n",
    "(1a) (5 points) Use SymPy (http://docs.sympy.org/latest/index.html) to find symbolic expressions for the three roots (i.e., the values of $x$ where $p(x) = 0$).\n",
    "\n",
    "(Hint:  Below we show how to use SymPy to solve for the roots of the quadratic polynomial $-x^2  - x + 12$. You just need to modify that code once you understand how the code works.)"
   ]
  },
  {
   "cell_type": "code",
   "execution_count": 17,
   "metadata": {},
   "outputs": [
    {
     "name": "stdout",
     "output_type": "stream",
     "text": [
      "{1.47058823529412: 1, 1.56250000000000: 1, 1.66666666666667: 1}\n",
      "[1.47058823529412, 1.56250000000000, 1.66666666666667]\n",
      "[1.66666667 1.5625     1.47058824]\n"
     ]
    }
   ],
   "source": [
    "import sympy\n",
    "import numpy as np\n",
    "\n",
    "x = sympy.symbols('x')\n",
    "roots = sympy.roots(816.0 * x**3 - 3835.0 * x**2 + 6000.0 * x - 3125.0)\n",
    "print(roots)\n",
    "\n",
    "xroots = [sympy.N(r) for r in roots]  # Compute the numerical values \n",
    "print(xroots)\n",
    "\n",
    "print(np.roots([816.0, -3835.0, 6000.0, -3125.0]))\n"
   ]
  },
  {
   "cell_type": "markdown",
   "metadata": {},
   "source": [
    "(1b) (10 points) Plot $p(x)$ for $1.43 \\le x \\le 1.71$ using a solid line and mark the location of the three roots using circles on the plot"
   ]
  },
  {
   "cell_type": "code",
   "execution_count": 18,
   "metadata": {},
   "outputs": [
    {
     "data": {
      "image/png": "[encoded data removed]",
      "text/plain": [
       "<Figure size 432x288 with 1 Axes>"
      ]
     },
     "metadata": {
      "needs_background": "light"
     },
     "output_type": "display_data"
    }
   ],
   "source": [
    "import matplotlib.pyplot as plt\n",
    "%matplotlib inline\n",
    "\n",
    "# Answer\n",
    "\n",
    "xs = np.linspace(1.43,1.71, 1000)\n",
    "px = []\n",
    "\n",
    "for i in range(len(xs)):\n",
    "    px.append(816*xs[i]**3 - 3835*xs[i]**2 + 6000*xs[i] - 3125)\n",
    "    \n",
    "plt.plot(xs,px)\n",
    "\n",
    "for j in range (len(xroots)):\n",
    "    plt.plot(xroots[j],0,\"o\")\n",
    "    \n",
    "plt.grid()\n",
    "plt.xlabel(\"x\")\n",
    "plt.ylabel(\"p(x)\")\n",
    "plt.show()\n"
   ]
  },
  {
   "cell_type": "markdown",
   "metadata": {},
   "source": [
    "(1c) (10 points) Use the function [`scipy.optimize.fsolve`](https://docs.scipy.org/doc/scipy-0.18.1/reference/generated/scipy.optimize.fsolve.html) with starting guesses $x0=1$, $x0=1.6$ and $x0=1.7$ to compute the three roots."
   ]
  },
  {
   "cell_type": "code",
   "execution_count": 19,
   "metadata": {},
   "outputs": [
    {
     "name": "stdout",
     "output_type": "stream",
     "text": [
      "The three roots are:\n",
      "[1.470588235294112, 1.5625000000001783, 1.6666666666666585]\n"
     ]
    }
   ],
   "source": [
    "import scipy.optimize as opt\n",
    "\n",
    "def f(x):\n",
    "    y = 816.0*x**3 - 3835.0*x**2 + 6000.0*x - 3125.0\n",
    "    \n",
    "    return y\n",
    "\n",
    "x0 = [1.0, 1.6, 1.7]\n",
    "xroots_1 = []\n",
    "for i in range(len(x0)):\n",
    "    xroots_1.append(float(opt.fsolve(f, x0[i])))\n",
    "\n",
    "print(\"The three roots are:\\n{}\".format(xroots_1))"
   ]
  },
  {
   "cell_type": "markdown",
   "metadata": {},
   "source": [
    "(1d) (10 bonus points) The secant method is a method for solving nonlinear equations. It\n",
    "uses two points to draw a secant line and use the intersection of the secant line\n",
    "with the $x$-axis to determine a third (new) point at each step.\n",
    "\n",
    "The intersection of the secant line with the $x$-axis is given by\n",
    "$$x_{k+1} = x_k - \\frac{f(x_k)}{s_k} = x_k + \\frac{x_k-x_{k-1}}{f(x_{k-1}) / f(x_k) - 1}.$$\n",
    "\n",
    "Complete the implementation of the secant method below..."
   ]
  },
  {
   "cell_type": "code",
   "execution_count": 20,
   "metadata": {},
   "outputs": [],
   "source": [
    "def secant(f, a, b, tol=0):\n",
    "    '''\n",
    "    Uses secant method to search for a root  of f(x) in the interval [a,b].\n",
    "    Tol is the convergence threshold on x. If not set a default is provided.\n",
    "    Returns the root and the number of iterations needed to find it.\n",
    "    '''\n",
    "    \n",
    "    if tol <= 0:\n",
    "        tol = np.finfo(float).eps\n",
    "\n",
    "    fa = f(a)\n",
    "    \n",
    "    for k in range(100):\n",
    "        fb = f(b)\n",
    "        if abs(fb) == 0:\n",
    "            x = b\n",
    "            break\n",
    "\n",
    "        # TODO: compute x based on the formula above\n",
    "        # x = ...\n",
    "        \n",
    "        x = b + (b - a) / (fa / fb - 1)\n",
    "        \n",
    "        delta = b - a\n",
    "        \n",
    "        if abs(delta) < tol*abs(b):\n",
    "            break\n",
    "        \n",
    "        a, fa = b, fb\n",
    "        b = x\n",
    "\n",
    "    return x, k"
   ]
  },
  {
   "cell_type": "markdown",
   "metadata": {},
   "source": [
    "and then use your implementation of the secant method to find the root by starting start with $a = 1$ and $b = 2$."
   ]
  },
  {
   "cell_type": "code",
   "execution_count": 21,
   "metadata": {},
   "outputs": [
    {
     "data": {
      "text/plain": [
       "(1.666666666666653, 11)"
      ]
     },
     "execution_count": 21,
     "metadata": {},
     "output_type": "execute_result"
    }
   ],
   "source": [
    "# Answer\n",
    "\n",
    "f_1d = lambda x: 816.0*x**3 - 3835.0*x**2 + 6000.0*x - 3125.0\n",
    "\n",
    "secant(f_1d, 1, 2)"
   ]
  },
  {
   "cell_type": "markdown",
   "metadata": {},
   "source": [
    "## Problem 2 (20 points) Integration\n",
    "\n",
    "(2a) (5 points) Using the `scipy.integrate.quad` function to compute the integral numerically:\n",
    "$$I = \\int_0^1 \\cos(2\\pi x) dx.$$"
   ]
  },
  {
   "cell_type": "code",
   "execution_count": 22,
   "metadata": {},
   "outputs": [],
   "source": [
    "# useful functions\n",
    "import scipy\n",
    "import scipy.integrate as integrate\n",
    "import sympy\n"
   ]
  },
  {
   "cell_type": "code",
   "execution_count": 23,
   "metadata": {},
   "outputs": [
    {
     "name": "stdout",
     "output_type": "stream",
     "text": [
      "(4.163336342344337e-17, 7.116990625963435e-15)\n"
     ]
    }
   ],
   "source": [
    "# Answer\n",
    "print(integrate.quad(lambda x: np.cos(2*np.pi*x),0,1))"
   ]
  },
  {
   "cell_type": "markdown",
   "metadata": {},
   "source": [
    "(2b) (5 points) Find the analytical integral of (a) using `sympy.integrate` and compare it with the numerical solution."
   ]
  },
  {
   "cell_type": "code",
   "execution_count": 24,
   "metadata": {},
   "outputs": [
    {
     "data": {
      "text/latex": [
       "$\\displaystyle 0$"
      ],
      "text/plain": [
       "0"
      ]
     },
     "execution_count": 24,
     "metadata": {},
     "output_type": "execute_result"
    }
   ],
   "source": [
    "# Answer\n",
    "sympy.integrate(sympy.cos(2*sympy.pi*x),(x,0,1))"
   ]
  },
  {
   "cell_type": "markdown",
   "metadata": {},
   "source": [
    "(2c) (10 points) Use the `scipy.integrate.dblquad` function in SciPy to compute the following integral numerically:\n",
    "$$ I = \\int_{y=0}^{1/2}\\int_{x=0}^{1-2y} xy dx dy.$$"
   ]
  },
  {
   "cell_type": "code",
   "execution_count": 25,
   "metadata": {},
   "outputs": [],
   "source": [
    "# useful functions\n",
    "f_2c = lambda x, y: x*y\n",
    "f_x = lambda x: 0\n",
    "f_y = lambda y: 1 - 2*y"
   ]
  },
  {
   "cell_type": "code",
   "execution_count": 26,
   "metadata": {},
   "outputs": [
    {
     "name": "stdout",
     "output_type": "stream",
     "text": [
      "0.010416666666666668\n"
     ]
    }
   ],
   "source": [
    "# Answer\n",
    "res = integrate.dblquad(f_2c, 0, 0.5, f_x, f_y)\n",
    "print(res[0])"
   ]
  },
  {
   "cell_type": "markdown",
   "metadata": {},
   "source": [
    "## Problem 3 (20 points + 5 bonus points) Minimization\n",
    "\n",
    "Consider the function $p(x) = 9 x^2 - 6 x + 2$.\n",
    "\n",
    "(3a) (5 points) Compute a critical value of of $p(x)$ by solving $p^\\prime (x) = 0$ using SymPy.\n"
   ]
  },
  {
   "cell_type": "code",
   "execution_count": 27,
   "metadata": {},
   "outputs": [],
   "source": [
    "import sympy\n",
    "# useful function: sympy.diff\n",
    "x = sympy.symbols('x')\n",
    "f_3a = 9*x**2 - 6*x + 2"
   ]
  },
  {
   "cell_type": "code",
   "execution_count": 28,
   "metadata": {},
   "outputs": [
    {
     "name": "stdout",
     "output_type": "stream",
     "text": [
      "[0.333333333333333]\n"
     ]
    }
   ],
   "source": [
    "# Answer:\n",
    "diff_exp = sympy.diff(f_3a, x)\n",
    "c_val = sympy.roots(diff_exp)\n",
    "c_val = [sympy.N(i) for i in c_val]\n",
    "print(c_val)"
   ]
  },
  {
   "cell_type": "markdown",
   "metadata": {},
   "source": [
    "(3b) (5 points) Use `scipy.optimize.minimize_scalar` function to compute the minimum of $p(x)$."
   ]
  },
  {
   "cell_type": "code",
   "execution_count": 29,
   "metadata": {},
   "outputs": [
    {
     "name": "stdout",
     "output_type": "stream",
     "text": [
      "0.3333333333333333\n"
     ]
    }
   ],
   "source": [
    "from scipy.optimize import minimize_scalar\n",
    "# Answer:\n",
    "def f_3b(x):\n",
    "    return 9*x**2 - 6*x + 2\n",
    "\n",
    "min = minimize_scalar(f_3b).x\n",
    "print(min)"
   ]
  },
  {
   "cell_type": "markdown",
   "metadata": {},
   "source": [
    "(3c) (5 points) Use the `scipy.optimize.minimize` function to compute the minimum of\n",
    "the [Rosenbrock function](https://en.wikipedia.org/wiki/Rosenbrock_function)\n",
    "\n",
    "$$ f(x,y) = 100(y-x^2)^2 + (1-x)^2, $$\n",
    "\n",
    "starting from $(x,y) = (0, 0)$. Note that the global minimum is found at $x^*=(1, 1).$ \n",
    "Use the BFGS method to solve it."
   ]
  },
  {
   "cell_type": "code",
   "execution_count": 75,
   "metadata": {},
   "outputs": [
    {
     "name": "stdout",
     "output_type": "stream",
     "text": [
      "      fun: 2.8439853482662883e-11\n",
      " hess_inv: array([[0.49482461, 0.98957647],\n",
      "       [0.98957647, 1.98394241]])\n",
      "      jac: array([ 3.98676209e-06, -2.84413471e-06])\n",
      "  message: 'Optimization terminated successfully.'\n",
      "     nfev: 72\n",
      "      nit: 19\n",
      "     njev: 24\n",
      "   status: 0\n",
      "  success: True\n",
      "        x: array([0.99999467, 0.99998932])\n"
     ]
    }
   ],
   "source": [
    "from scipy.optimize import minimize\n",
    "# Answer:\n",
    "\n",
    "def rosen(X):\n",
    "    x, y = X\n",
    "    return 100 * (y - x ** 2) ** 2 + (1 - x) ** 2\n",
    "\n",
    "X0 = [0,0]\n",
    "\n",
    "print(minimize(rosen, X0, method= 'BFGS'))"
   ]
  },
  {
   "cell_type": "markdown",
   "metadata": {},
   "source": [
    "(3d) (10 points) Repeat the problem in (c) but solve it using the Newton-CG method.\n",
    "Note that you need to provide the Jacobian (the gradient vector), which you can\n",
    "compute using `sympy` or compute by hand.\n",
    "\n",
    "Some useful functions include `sympy.diff`, `sympy.lambdify`, and `scipy.optimize.minimize`."
   ]
  },
  {
   "cell_type": "code",
   "execution_count": null,
   "metadata": {},
   "outputs": [],
   "source": [
    "# Answer\n",
    "\n",
    "\n",
    "\n"
   ]
  },
  {
   "cell_type": "markdown",
   "metadata": {},
   "source": [
    "(3e) (10 bonus points) The $N$-dimensional Rosenbrock function is given by\n",
    "\n",
    "$$ f(x) = \\sum_{i=1}^{N-1} \\left(100(x_{i+1}-x_{i}^2)^2 + (1-x_i)^2 \\right), $$\n",
    "\n",
    "where $x=(x_1, x_2, \\dots, x_N) \\in \\mathbb{R}^N$.\n",
    "\n",
    "Adapt the code above in Part (d) to N=10 starting from the initial guess $(0, 0, \\dots, 0)$."
   ]
  },
  {
   "cell_type": "code",
   "execution_count": null,
   "metadata": {},
   "outputs": [],
   "source": [
    "# Answer\n"
   ]
  },
  {
   "cell_type": "markdown",
   "metadata": {},
   "source": [
    "# Problem 4. (20 points + 5 bonus points) Object-Oriented Programming (OOP)\n",
    "\n",
    "(4a) (10 points) Define a `BankAccount` class with `owners`, `number`,\n",
    "and `balance` instant attributes as well as `deposit` and `withdraw` methods.\n",
    "The attributes should be defined in the `__init__` method. The `deposit`\n",
    "and `withdraw` should take `amount` as input argument and should update\n",
    "the `balance` attribute.\n",
    "\n",
    "Also write a `__str__` method for printing. Document the class and methods\n",
    "with docstrings."
   ]
  },
  {
   "cell_type": "code",
   "execution_count": 64,
   "metadata": {},
   "outputs": [],
   "source": [
    "# Answer\n",
    "class BankAccount:\n",
    "    def __init__(self, owners, number, balance):\n",
    "        self.owners = owners\n",
    "        self.number = number\n",
    "        self.balance = balance\n",
    "    \n",
    "    def deposit(self, amount):\n",
    "        self.balance += amount\n",
    "        print(\"Success!\")\n",
    "    \n",
    "    def withdraw(self, amount):\n",
    "        temp = self.balance - amount\n",
    "        if temp >= 0:\n",
    "            self.balance = temp\n",
    "            print(\"Success!\")\n",
    "        else:\n",
    "            print(\"Insufficient Fund!\")\n",
    "        \n",
    "    def __str__(self):\n",
    "        return 'Owner(s): {self.owners}\\nAccount Number: {self.number}\\nBalance: {self.balance}'.format(self = self)"
   ]
  },
  {
   "cell_type": "markdown",
   "metadata": {},
   "source": [
    "Test your implementation by creating an instance and testing its methods.\n",
    "You can use a list of character strings (names) for `owners`."
   ]
  },
  {
   "cell_type": "code",
   "execution_count": 65,
   "metadata": {},
   "outputs": [],
   "source": [
    "# Answer\n",
    "\n",
    "customer_1 = BankAccount(['Lisa', 'John'], '025685354', 2000)\n",
    "customer_2 = BankAccount('Lucy', '036124852', 1000)\n",
    "customer_3 = BankAccount('Lynn', '456325122', 500)"
   ]
  },
  {
   "cell_type": "code",
   "execution_count": 66,
   "metadata": {},
   "outputs": [
    {
     "name": "stdout",
     "output_type": "stream",
     "text": [
      "Owner(s): ['Lisa', 'John']\n",
      "Account Number: 025685354\n",
      "Balance: 2000\n",
      "Owner(s): Lucy\n",
      "Account Number: 036124852\n",
      "Balance: 1000\n",
      "Owner(s): Lynn\n",
      "Account Number: 456325122\n",
      "Balance: 500\n"
     ]
    }
   ],
   "source": [
    "# print inital\n",
    "print(customer_1)\n",
    "print(customer_2)\n",
    "print(customer_3)"
   ]
  },
  {
   "cell_type": "code",
   "execution_count": 67,
   "metadata": {},
   "outputs": [
    {
     "name": "stdout",
     "output_type": "stream",
     "text": [
      "Success!\n",
      "Success!\n",
      "Insufficient Fund!\n"
     ]
    }
   ],
   "source": [
    "# withdraw\n",
    "customer_1.withdraw(500)\n",
    "customer_2.withdraw(300)\n",
    "customer_3.withdraw(1000)"
   ]
  },
  {
   "cell_type": "code",
   "execution_count": 50,
   "metadata": {},
   "outputs": [
    {
     "name": "stdout",
     "output_type": "stream",
     "text": [
      "Owner(s): ['Lisa', 'John']\n",
      "Account Number: 025685354\n",
      "Balance: 2500\n",
      "Owner(s): Lucy\n",
      "Account Number: 036124852\n",
      "Balance: 3700\n",
      "Owner(s): Lynn\n",
      "Account Number: 456325122\n",
      "Balance: 2500\n"
     ]
    }
   ],
   "source": [
    "# after withdraw\n",
    "print(customer_1)\n",
    "print(customer_2)\n",
    "print(customer_3)"
   ]
  },
  {
   "cell_type": "code",
   "execution_count": 53,
   "metadata": {},
   "outputs": [
    {
     "name": "stdout",
     "output_type": "stream",
     "text": [
      "Success!\n",
      "Success!\n",
      "Success!\n"
     ]
    }
   ],
   "source": [
    "# deposit\n",
    "customer_1.deposit(1000)\n",
    "customer_2.deposit(3000)\n",
    "customer_3.deposit(2000)"
   ]
  },
  {
   "cell_type": "code",
   "execution_count": 54,
   "metadata": {},
   "outputs": [
    {
     "name": "stdout",
     "output_type": "stream",
     "text": [
      "Owner(s): ['Lisa', 'John']\n",
      "Account Number: 025685354\n",
      "Balance: 3000\n",
      "Owner(s): Lucy\n",
      "Account Number: 036124852\n",
      "Balance: 4000\n",
      "Owner(s): Lynn\n",
      "Account Number: 456325122\n",
      "Balance: 2500\n"
     ]
    }
   ],
   "source": [
    "# after deposit\n",
    "print(customer_1)\n",
    "print(customer_2)\n",
    "print(customer_3)"
   ]
  },
  {
   "cell_type": "markdown",
   "metadata": {},
   "source": [
    "(4b) (10 points) Create a subclass `InterestAccount`, which\n",
    "inherits all of the variables and methods of the `BankAccount`\n",
    "class. Add `interest_rate` and `minimum_balance` as a new\n",
    "attribute and a new method `compute_interest` (for simplicity,\n",
    "just multiply the balance with the `interest_rate`). Make\n",
    "sure you call the `__init__`\n",
    "function of the superclass `BankAccount`. Also, overwrite the\n",
    "`withdraw` method to reject the withdrawal if the balance would\n",
    "fall below `minimum_balance`.\n",
    "\n",
    "Document the class and methods with docstrings."
   ]
  },
  {
   "cell_type": "code",
   "execution_count": 59,
   "metadata": {},
   "outputs": [],
   "source": [
    "# Answer\n",
    "class InterestAccount(BankAccount):\n",
    "    def __init__(self, interest_rate, minimum_balance):\n",
    "        self.interest_rate = interest_rate\n",
    "        self.minimum_balance = minimum_balance\n",
    "        super().__init__()\n",
    "        \n",
    "    def compute_interest(self):\n",
    "        self.balance = self.balance * self.interest_rate\n",
    "    \n",
    "    def withdraw(self, amount):\n",
    "        temp = self.balance - amount\n",
    "        if temp < self.minimum_balance:\n",
    "            print(\"Withdraw Rejected!\")\n",
    "        else:\n",
    "            self.balance = temp\n",
    "            print(\"Success!\")  \n",
    "        super().withdraw()"
   ]
  },
  {
   "cell_type": "markdown",
   "metadata": {},
   "source": [
    "(4c) (10 points) Create a class `Customer` with attributes\n",
    "`name`, `birthday`, `gender`, `id_number`, and `accounts`.\n",
    "\n",
    "Write a method `create_account`, which creates an\n",
    "`InterestAccount` with the customer as the owner, append the\n",
    "created account to the `accounts` attribute of the `Customer`\n",
    "object. Test your implementation by creating multiple accounts\n",
    "for a customer."
   ]
  },
  {
   "cell_type": "code",
   "execution_count": null,
   "metadata": {},
   "outputs": [],
   "source": [
    "# Answer\n",
    "class Customer():\n",
    "    def __init__(self, name, birthday, gender, id_number, accounts):\n",
    "        self.name = name\n",
    "        self.birthday = birthday\n",
    "        self.gender = gender\n",
    "        self.id_number = id_number\n",
    "        self.accounts = []\n",
    "    \n",
    "    def create_account(self, customer):\n",
    "        self.accounts.append(customer)"
   ]
  },
  {
   "cell_type": "markdown",
   "metadata": {},
   "source": [
    "(4d) (10 bonus points)\n",
    "In this problem, we practice many-to-many relationships: rewrite the\n",
    "`Customer` class to add a new method\n",
    "`link_account`, which should append a customer as\n",
    "another owner to a `InterestAccount` and add the account\n",
    "to the customer's list of accounts."
   ]
  },
  {
   "cell_type": "code",
   "execution_count": null,
   "metadata": {},
   "outputs": [],
   "source": [
    "# Answer\n"
   ]
  },
  {
   "cell_type": "markdown",
   "metadata": {},
   "source": [
    "Rewrite `InterestAccount` by adding a new method `close_account` in\n",
    "`InterestAccount`, which should remove the account from its owners.\n"
   ]
  },
  {
   "cell_type": "code",
   "execution_count": null,
   "metadata": {},
   "outputs": [],
   "source": [
    "# Answer\n"
   ]
  },
  {
   "cell_type": "markdown",
   "metadata": {},
   "source": [
    "Write code to test your implementation by creating\n",
    "multiple customers and multiple accounts with joint\n",
    "owners, and deleting some of the accounts."
   ]
  },
  {
   "cell_type": "code",
   "execution_count": null,
   "metadata": {},
   "outputs": [],
   "source": [
    "# Answer\n",
    "\n"
   ]
  },
  {
   "cell_type": "markdown",
   "metadata": {},
   "source": [
    "# Problem 5. (20 points) Pandas & Statistical Modeling\n",
    "\n",
    "First, we will need to import the following libraries:"
   ]
  },
  {
   "cell_type": "code",
   "execution_count": 68,
   "metadata": {},
   "outputs": [],
   "source": [
    "import pandas as pd\n",
    "import numpy as np\n",
    "\n",
    "import statsmodels.api as sm \n",
    "import statsmodels.formula.api as smf\n",
    "import statsmodels.graphics.api as smg\n",
    "\n",
    "import matplotlib.pyplot as plt\n",
    "%matplotlib inline"
   ]
  },
  {
   "cell_type": "markdown",
   "metadata": {},
   "source": [
    "1) Create a pandas Series object with values given by the first 10 positive even integers (2, 4, ..., 20) and with indices given by the first 10 letters of English alphabet. Display the result."
   ]
  },
  {
   "cell_type": "code",
   "execution_count": null,
   "metadata": {},
   "outputs": [
    {
     "name": "stdout",
     "output_type": "stream",
     "text": [
      "a     2\n",
      "b     4\n",
      "c     6\n",
      "d     8\n",
      "e    10\n",
      "f    12\n",
      "g    14\n",
      "h    16\n",
      "i    18\n",
      "j    20\n",
      "dtype: int64\n"
     ]
    }
   ],
   "source": [
    "s_5_1 = pd.Series(range(2, 21, 2), index = ['a', 'b', 'c', 'd', 'e', 'f', 'g', 'h', 'i', 'j']) \n",
    "print(s_5_1)"
   ]
  },
  {
   "cell_type": "markdown",
   "metadata": {},
   "source": [
    "2) Download the file BoxOffice2018.csv to your current directory and use read_csv function in Pandas to read this csv file and create a DataFrame named \"df_box\". This data is the top 30 highest earning movies in 2018. The data is from www.boxofficemojo.com."
   ]
  },
  {
   "cell_type": "code",
   "execution_count": null,
   "metadata": {},
   "outputs": [
    {
     "data": {
      "text/html": [
       "<div>\n",
       "<style scoped>\n",
       "    .dataframe tbody tr th:only-of-type {\n",
       "        vertical-align: middle;\n",
       "    }\n",
       "\n",
       "    .dataframe tbody tr th {\n",
       "        vertical-align: top;\n",
       "    }\n",
       "\n",
       "    .dataframe thead th {\n",
       "        text-align: right;\n",
       "    }\n",
       "</style>\n",
       "<table border=\"1\" class=\"dataframe\">\n",
       "  <thead>\n",
       "    <tr style=\"text-align: right;\">\n",
       "      <th></th>\n",
       "      <th>Rank</th>\n",
       "      <th>Movie_Title</th>\n",
       "      <th>Studio</th>\n",
       "      <th>Total Gross / Theaters</th>\n",
       "      <th>Unnamed: 4</th>\n",
       "      <th>Opening / Theaters</th>\n",
       "      <th>Unnamed: 6</th>\n",
       "      <th>Open</th>\n",
       "      <th>Close</th>\n",
       "    </tr>\n",
       "  </thead>\n",
       "  <tbody>\n",
       "    <tr>\n",
       "      <th>0</th>\n",
       "      <td>1</td>\n",
       "      <td>Black Panther</td>\n",
       "      <td>BV</td>\n",
       "      <td>$700,059,566</td>\n",
       "      <td>4,084</td>\n",
       "      <td>$202,003,951</td>\n",
       "      <td>4,020</td>\n",
       "      <td>43512</td>\n",
       "      <td>9-Aug</td>\n",
       "    </tr>\n",
       "    <tr>\n",
       "      <th>1</th>\n",
       "      <td>2</td>\n",
       "      <td>Avengers: Infinity War</td>\n",
       "      <td>BV</td>\n",
       "      <td>$678,815,482</td>\n",
       "      <td>4,474</td>\n",
       "      <td>$257,698,183</td>\n",
       "      <td>4,474</td>\n",
       "      <td>43582</td>\n",
       "      <td>13-Sep</td>\n",
       "    </tr>\n",
       "    <tr>\n",
       "      <th>2</th>\n",
       "      <td>3</td>\n",
       "      <td>Incredibles 2</td>\n",
       "      <td>BV</td>\n",
       "      <td>$608,581,744</td>\n",
       "      <td>4,410</td>\n",
       "      <td>$182,687,905</td>\n",
       "      <td>4,410</td>\n",
       "      <td>43631</td>\n",
       "      <td>13-Dec</td>\n",
       "    </tr>\n",
       "    <tr>\n",
       "      <th>3</th>\n",
       "      <td>4</td>\n",
       "      <td>Jurassic World: Fallen Kingdom</td>\n",
       "      <td>Uni.</td>\n",
       "      <td>$417,719,760</td>\n",
       "      <td>4,485</td>\n",
       "      <td>$148,024,610</td>\n",
       "      <td>4,475</td>\n",
       "      <td>43638</td>\n",
       "      <td>4-Oct</td>\n",
       "    </tr>\n",
       "    <tr>\n",
       "      <th>4</th>\n",
       "      <td>5</td>\n",
       "      <td>Aquaman</td>\n",
       "      <td>WB</td>\n",
       "      <td>$334,826,690</td>\n",
       "      <td>4,184</td>\n",
       "      <td>$67,873,522</td>\n",
       "      <td>4,125</td>\n",
       "      <td>43820</td>\n",
       "      <td>-</td>\n",
       "    </tr>\n",
       "  </tbody>\n",
       "</table>\n",
       "</div>"
      ],
      "text/plain": [
       "   Rank                     Movie_Title Studio Total Gross / Theaters  \\\n",
       "0     1                   Black Panther     BV           $700,059,566   \n",
       "1     2          Avengers: Infinity War     BV           $678,815,482   \n",
       "2     3                   Incredibles 2     BV           $608,581,744   \n",
       "3     4  Jurassic World: Fallen Kingdom   Uni.           $417,719,760   \n",
       "4     5                         Aquaman     WB           $334,826,690   \n",
       "\n",
       "  Unnamed: 4 Opening / Theaters Unnamed: 6   Open   Close  \n",
       "0      4,084       $202,003,951      4,020  43512   9-Aug  \n",
       "1      4,474       $257,698,183      4,474  43582  13-Sep  \n",
       "2      4,410       $182,687,905      4,410  43631  13-Dec  \n",
       "3      4,485       $148,024,610      4,475  43638   4-Oct  \n",
       "4      4,184        $67,873,522      4,125  43820       -  "
      ]
     },
     "execution_count": 96,
     "metadata": {},
     "output_type": "execute_result"
    }
   ],
   "source": [
    "import pandas as pd\n",
    "\n",
    "df_box = pd.read_csv('BoxOffice2018.csv')\n",
    "df_box.head()"
   ]
  },
  {
   "cell_type": "markdown",
   "metadata": {},
   "source": [
    "3) Let's rename some columns so that we can access them as attributes in Python.\n",
    "\n",
    "Rename the column \"Total Gross / Theaters\" to \"Total_Gross\"\n",
    "Raname the column \"Unnamed: 4\" (it's the column to the right of \"\"Total Gross / Theaters\") to \"Theaters_Total\"\n",
    "Raname the column \"Opening / Theaters\" to \"Opening\"\n",
    "Raname the column \"Unnamed: 6\" to \"Theaters_Opening\"\n",
    "Display the first 5 rows to show the result."
   ]
  },
  {
   "cell_type": "code",
   "execution_count": null,
   "metadata": {},
   "outputs": [
    {
     "data": {
      "text/html": [
       "<div>\n",
       "<style scoped>\n",
       "    .dataframe tbody tr th:only-of-type {\n",
       "        vertical-align: middle;\n",
       "    }\n",
       "\n",
       "    .dataframe tbody tr th {\n",
       "        vertical-align: top;\n",
       "    }\n",
       "\n",
       "    .dataframe thead th {\n",
       "        text-align: right;\n",
       "    }\n",
       "</style>\n",
       "<table border=\"1\" class=\"dataframe\">\n",
       "  <thead>\n",
       "    <tr style=\"text-align: right;\">\n",
       "      <th></th>\n",
       "      <th>Rank</th>\n",
       "      <th>Movie_Title</th>\n",
       "      <th>Studio</th>\n",
       "      <th>Total_Gross</th>\n",
       "      <th>Theaters_Total</th>\n",
       "      <th>Opening</th>\n",
       "      <th>Theaters_Opening</th>\n",
       "      <th>Open</th>\n",
       "      <th>Close</th>\n",
       "    </tr>\n",
       "  </thead>\n",
       "  <tbody>\n",
       "    <tr>\n",
       "      <th>0</th>\n",
       "      <td>1</td>\n",
       "      <td>Black Panther</td>\n",
       "      <td>BV</td>\n",
       "      <td>$700,059,566</td>\n",
       "      <td>4,084</td>\n",
       "      <td>$202,003,951</td>\n",
       "      <td>4,020</td>\n",
       "      <td>43512</td>\n",
       "      <td>9-Aug</td>\n",
       "    </tr>\n",
       "    <tr>\n",
       "      <th>1</th>\n",
       "      <td>2</td>\n",
       "      <td>Avengers: Infinity War</td>\n",
       "      <td>BV</td>\n",
       "      <td>$678,815,482</td>\n",
       "      <td>4,474</td>\n",
       "      <td>$257,698,183</td>\n",
       "      <td>4,474</td>\n",
       "      <td>43582</td>\n",
       "      <td>13-Sep</td>\n",
       "    </tr>\n",
       "    <tr>\n",
       "      <th>2</th>\n",
       "      <td>3</td>\n",
       "      <td>Incredibles 2</td>\n",
       "      <td>BV</td>\n",
       "      <td>$608,581,744</td>\n",
       "      <td>4,410</td>\n",
       "      <td>$182,687,905</td>\n",
       "      <td>4,410</td>\n",
       "      <td>43631</td>\n",
       "      <td>13-Dec</td>\n",
       "    </tr>\n",
       "    <tr>\n",
       "      <th>3</th>\n",
       "      <td>4</td>\n",
       "      <td>Jurassic World: Fallen Kingdom</td>\n",
       "      <td>Uni.</td>\n",
       "      <td>$417,719,760</td>\n",
       "      <td>4,485</td>\n",
       "      <td>$148,024,610</td>\n",
       "      <td>4,475</td>\n",
       "      <td>43638</td>\n",
       "      <td>4-Oct</td>\n",
       "    </tr>\n",
       "    <tr>\n",
       "      <th>4</th>\n",
       "      <td>5</td>\n",
       "      <td>Aquaman</td>\n",
       "      <td>WB</td>\n",
       "      <td>$334,826,690</td>\n",
       "      <td>4,184</td>\n",
       "      <td>$67,873,522</td>\n",
       "      <td>4,125</td>\n",
       "      <td>43820</td>\n",
       "      <td>-</td>\n",
       "    </tr>\n",
       "  </tbody>\n",
       "</table>\n",
       "</div>"
      ],
      "text/plain": [
       "   Rank                     Movie_Title Studio   Total_Gross Theaters_Total  \\\n",
       "0     1                   Black Panther     BV  $700,059,566          4,084   \n",
       "1     2          Avengers: Infinity War     BV  $678,815,482          4,474   \n",
       "2     3                   Incredibles 2     BV  $608,581,744          4,410   \n",
       "3     4  Jurassic World: Fallen Kingdom   Uni.  $417,719,760          4,485   \n",
       "4     5                         Aquaman     WB  $334,826,690          4,184   \n",
       "\n",
       "        Opening Theaters_Opening   Open   Close  \n",
       "0  $202,003,951            4,020  43512   9-Aug  \n",
       "1  $257,698,183            4,474  43582  13-Sep  \n",
       "2  $182,687,905            4,410  43631  13-Dec  \n",
       "3  $148,024,610            4,475  43638   4-Oct  \n",
       "4   $67,873,522            4,125  43820       -  "
      ]
     },
     "execution_count": 97,
     "metadata": {},
     "output_type": "execute_result"
    }
   ],
   "source": [
    "df_box.rename(columns= {'Total Gross / Theaters': 'Total_Gross', 'Unnamed: 4': 'Theaters_Total', 'Opening / Theaters': 'Opening', 'Unnamed: 6': 'Theaters_Opening'}, inplace= True)\n",
    "df_box.head()"
   ]
  },
  {
   "cell_type": "markdown",
   "metadata": {},
   "source": [
    "4) Delete the columns \"Open\" and \"Close\" so that we have a cleaner data."
   ]
  },
  {
   "cell_type": "code",
   "execution_count": null,
   "metadata": {},
   "outputs": [
    {
     "data": {
      "text/html": [
       "<div>\n",
       "<style scoped>\n",
       "    .dataframe tbody tr th:only-of-type {\n",
       "        vertical-align: middle;\n",
       "    }\n",
       "\n",
       "    .dataframe tbody tr th {\n",
       "        vertical-align: top;\n",
       "    }\n",
       "\n",
       "    .dataframe thead th {\n",
       "        text-align: right;\n",
       "    }\n",
       "</style>\n",
       "<table border=\"1\" class=\"dataframe\">\n",
       "  <thead>\n",
       "    <tr style=\"text-align: right;\">\n",
       "      <th></th>\n",
       "      <th>Rank</th>\n",
       "      <th>Movie_Title</th>\n",
       "      <th>Studio</th>\n",
       "      <th>Total_Gross</th>\n",
       "      <th>Theaters_Total</th>\n",
       "      <th>Opening</th>\n",
       "      <th>Theaters_Opening</th>\n",
       "    </tr>\n",
       "  </thead>\n",
       "  <tbody>\n",
       "    <tr>\n",
       "      <th>0</th>\n",
       "      <td>1</td>\n",
       "      <td>Black Panther</td>\n",
       "      <td>BV</td>\n",
       "      <td>$700,059,566</td>\n",
       "      <td>4,084</td>\n",
       "      <td>$202,003,951</td>\n",
       "      <td>4,020</td>\n",
       "    </tr>\n",
       "    <tr>\n",
       "      <th>1</th>\n",
       "      <td>2</td>\n",
       "      <td>Avengers: Infinity War</td>\n",
       "      <td>BV</td>\n",
       "      <td>$678,815,482</td>\n",
       "      <td>4,474</td>\n",
       "      <td>$257,698,183</td>\n",
       "      <td>4,474</td>\n",
       "    </tr>\n",
       "    <tr>\n",
       "      <th>2</th>\n",
       "      <td>3</td>\n",
       "      <td>Incredibles 2</td>\n",
       "      <td>BV</td>\n",
       "      <td>$608,581,744</td>\n",
       "      <td>4,410</td>\n",
       "      <td>$182,687,905</td>\n",
       "      <td>4,410</td>\n",
       "    </tr>\n",
       "    <tr>\n",
       "      <th>3</th>\n",
       "      <td>4</td>\n",
       "      <td>Jurassic World: Fallen Kingdom</td>\n",
       "      <td>Uni.</td>\n",
       "      <td>$417,719,760</td>\n",
       "      <td>4,485</td>\n",
       "      <td>$148,024,610</td>\n",
       "      <td>4,475</td>\n",
       "    </tr>\n",
       "    <tr>\n",
       "      <th>4</th>\n",
       "      <td>5</td>\n",
       "      <td>Aquaman</td>\n",
       "      <td>WB</td>\n",
       "      <td>$334,826,690</td>\n",
       "      <td>4,184</td>\n",
       "      <td>$67,873,522</td>\n",
       "      <td>4,125</td>\n",
       "    </tr>\n",
       "  </tbody>\n",
       "</table>\n",
       "</div>"
      ],
      "text/plain": [
       "   Rank                     Movie_Title Studio   Total_Gross Theaters_Total  \\\n",
       "0     1                   Black Panther     BV  $700,059,566          4,084   \n",
       "1     2          Avengers: Infinity War     BV  $678,815,482          4,474   \n",
       "2     3                   Incredibles 2     BV  $608,581,744          4,410   \n",
       "3     4  Jurassic World: Fallen Kingdom   Uni.  $417,719,760          4,485   \n",
       "4     5                         Aquaman     WB  $334,826,690          4,184   \n",
       "\n",
       "        Opening Theaters_Opening  \n",
       "0  $202,003,951            4,020  \n",
       "1  $257,698,183            4,474  \n",
       "2  $182,687,905            4,410  \n",
       "3  $148,024,610            4,475  \n",
       "4   $67,873,522            4,125  "
      ]
     },
     "execution_count": 98,
     "metadata": {},
     "output_type": "execute_result"
    }
   ],
   "source": [
    "df_box = df_box.drop(columns= ['Open', 'Close'])\n",
    "df_box.head()"
   ]
  },
  {
   "cell_type": "markdown",
   "metadata": {},
   "source": [
    "5) The columns that contain \"numbers\" are not of numerical type. We will convert them to integers.\n",
    "\n",
    "In the \"Total_Gross\" and \"Opening\", remove the \"$\" and \",\" and casts the results to integers. Replace the original columns with the transformed columns.\n",
    "In the \"Theaters_Total\" and \"Theaters_Opening\", remove the \",\" and casts the results to integers\n",
    "Display the result with df_box.head()\n",
    "Check the types of columns by using df_box.info() . (now you should those columns are now of int64(integer) type)"
   ]
  },
  {
   "cell_type": "code",
   "execution_count": null,
   "metadata": {},
   "outputs": [
    {
     "name": "stderr",
     "output_type": "stream",
     "text": [
      "C:\\Users\\alexb\\AppData\\Local\\Temp\\ipykernel_27192\\1024096762.py:1: FutureWarning: The default value of regex will change from True to False in a future version. In addition, single character regular expressions will *not* be treated as literal strings when regex=True.\n",
      "  df_box['Total_Gross'] = df_box['Total_Gross'].str.replace('$','')\n",
      "C:\\Users\\alexb\\AppData\\Local\\Temp\\ipykernel_27192\\1024096762.py:3: FutureWarning: The default value of regex will change from True to False in a future version. In addition, single character regular expressions will *not* be treated as literal strings when regex=True.\n",
      "  df_box['Opening'] = df_box['Opening'].str.replace('$','')\n"
     ]
    },
    {
     "data": {
      "text/html": [
       "<div>\n",
       "<style scoped>\n",
       "    .dataframe tbody tr th:only-of-type {\n",
       "        vertical-align: middle;\n",
       "    }\n",
       "\n",
       "    .dataframe tbody tr th {\n",
       "        vertical-align: top;\n",
       "    }\n",
       "\n",
       "    .dataframe thead th {\n",
       "        text-align: right;\n",
       "    }\n",
       "</style>\n",
       "<table border=\"1\" class=\"dataframe\">\n",
       "  <thead>\n",
       "    <tr style=\"text-align: right;\">\n",
       "      <th></th>\n",
       "      <th>Rank</th>\n",
       "      <th>Movie_Title</th>\n",
       "      <th>Studio</th>\n",
       "      <th>Total_Gross</th>\n",
       "      <th>Theaters_Total</th>\n",
       "      <th>Opening</th>\n",
       "      <th>Theaters_Opening</th>\n",
       "    </tr>\n",
       "  </thead>\n",
       "  <tbody>\n",
       "    <tr>\n",
       "      <th>0</th>\n",
       "      <td>1</td>\n",
       "      <td>Black Panther</td>\n",
       "      <td>BV</td>\n",
       "      <td>700059566</td>\n",
       "      <td>4,084</td>\n",
       "      <td>202003951</td>\n",
       "      <td>4,020</td>\n",
       "    </tr>\n",
       "    <tr>\n",
       "      <th>1</th>\n",
       "      <td>2</td>\n",
       "      <td>Avengers: Infinity War</td>\n",
       "      <td>BV</td>\n",
       "      <td>678815482</td>\n",
       "      <td>4,474</td>\n",
       "      <td>257698183</td>\n",
       "      <td>4,474</td>\n",
       "    </tr>\n",
       "    <tr>\n",
       "      <th>2</th>\n",
       "      <td>3</td>\n",
       "      <td>Incredibles 2</td>\n",
       "      <td>BV</td>\n",
       "      <td>608581744</td>\n",
       "      <td>4,410</td>\n",
       "      <td>182687905</td>\n",
       "      <td>4,410</td>\n",
       "    </tr>\n",
       "    <tr>\n",
       "      <th>3</th>\n",
       "      <td>4</td>\n",
       "      <td>Jurassic World: Fallen Kingdom</td>\n",
       "      <td>Uni.</td>\n",
       "      <td>417719760</td>\n",
       "      <td>4,485</td>\n",
       "      <td>148024610</td>\n",
       "      <td>4,475</td>\n",
       "    </tr>\n",
       "    <tr>\n",
       "      <th>4</th>\n",
       "      <td>5</td>\n",
       "      <td>Aquaman</td>\n",
       "      <td>WB</td>\n",
       "      <td>334826690</td>\n",
       "      <td>4,184</td>\n",
       "      <td>67873522</td>\n",
       "      <td>4,125</td>\n",
       "    </tr>\n",
       "  </tbody>\n",
       "</table>\n",
       "</div>"
      ],
      "text/plain": [
       "   Rank                     Movie_Title Studio Total_Gross Theaters_Total  \\\n",
       "0     1                   Black Panther     BV   700059566          4,084   \n",
       "1     2          Avengers: Infinity War     BV   678815482          4,474   \n",
       "2     3                   Incredibles 2     BV   608581744          4,410   \n",
       "3     4  Jurassic World: Fallen Kingdom   Uni.   417719760          4,485   \n",
       "4     5                         Aquaman     WB   334826690          4,184   \n",
       "\n",
       "     Opening Theaters_Opening  \n",
       "0  202003951            4,020  \n",
       "1  257698183            4,474  \n",
       "2  182687905            4,410  \n",
       "3  148024610            4,475  \n",
       "4   67873522            4,125  "
      ]
     },
     "execution_count": 101,
     "metadata": {},
     "output_type": "execute_result"
    }
   ],
   "source": [
    "df_box['Total_Gross'] = df_box['Total_Gross'].str.replace('$','')\n",
    "df_box['Total_Gross'] = df_box['Total_Gross'].str.replace(',','')\n",
    "df_box['Opening'] = df_box['Opening'].str.replace('$','')\n",
    "df_box['Opening'] = df_box['Opening'].str.replace(',','')\n",
    "df_box.head()"
   ]
  },
  {
   "cell_type": "markdown",
   "metadata": {},
   "source": [
    "6) Now we are ready to compute some statistics (of these top 30 movies). Write a code to answer the following questions:\n",
    "\n",
    "What is the standard deviation of the total gross?\n",
    "What is the mininum of \"Theaters_Total\"?\n",
    "What is the maximum of \"Theaters_Opening\"?\n",
    "What is the 80 percentile (0.8 quantile) of \"Opening\"?"
   ]
  },
  {
   "cell_type": "code",
   "execution_count": null,
   "metadata": {},
   "outputs": [],
   "source": [
    "df_box['Total_Gross'] = pd.to_numeric(df_box['Total_Gross'])\n",
    "df_box['Theaters_Opening'] = df_box['Theaters_Opening'].str.replace(',','')\n",
    "df_box['Theaters_Opening'] = pd.to_numeric(df_box['Theaters_Opening'])\n",
    "df_box['Opening'] = pd.to_numeric(df_box['Opening'])"
   ]
  },
  {
   "cell_type": "code",
   "execution_count": null,
   "metadata": {},
   "outputs": [
    {
     "name": "stdout",
     "output_type": "stream",
     "text": [
      "The standand deviation of the total gross: 160388617.4210023\n",
      "The maximum of Theaters_Opening: 4475\n",
      "The 80 percentile (0.8 quantile) of Opening: 81088702.60000001\n"
     ]
    }
   ],
   "source": [
    "print(\"The standand deviation of the total gross: {}\".format(df_box['Total_Gross'].std()))\n",
    "print(\"The maximum of Theaters_Opening: {}\".format(df_box['Theaters_Opening'].max()))\n",
    "print(\"The 80 percentile (0.8 quantile) of Opening: {}\".format(df_box['Opening'].quantile(0.8)))      "
   ]
  },
  {
   "cell_type": "markdown",
   "metadata": {},
   "source": [
    "7) Write a code to find how many movies (in the top30) each studio made. (e.g. BV (Buenva Vista) produced 7 movies that were in the top30), ...). Display your answer."
   ]
  },
  {
   "cell_type": "code",
   "execution_count": null,
   "metadata": {},
   "outputs": [
    {
     "name": "stdout",
     "output_type": "stream",
     "text": [
      "WB produced 8 movies that were in the top 30.\n",
      "BV produced 7 movies that were in the top 30.\n",
      "Uni. produced 4 movies that were in the top 30.\n",
      "Sony produced 4 movies that were in the top 30.\n",
      "Par. produced 3 movies that were in the top 30.\n",
      "Fox produced 2 movies that were in the top 30.\n",
      "WB (NL) produced 1 movies that were in the top 30.\n",
      "MGM produced 1 movies that were in the top 30.\n"
     ]
    }
   ],
   "source": [
    "studio_made = df_box['Studio'].value_counts()\n",
    "\n",
    "for i in range(len(studio_made)):\n",
    "    studio = studio_made.index[i]\n",
    "    movie = studio_made[studio]\n",
    "    print(\"{} produced {} movies that were in the top 30.\".format(studio, movie))"
   ]
  },
  {
   "cell_type": "markdown",
   "metadata": {},
   "source": [
    "8) How much money (from Total_Gross) did each studio earn from all of their movies in the top30? (Note: to make it easy, you don't need to combine \"WB\" and \"WB(NL)\"). Display your result."
   ]
  },
  {
   "cell_type": "code",
   "execution_count": null,
   "metadata": {},
   "outputs": [
    {
     "name": "stdout",
     "output_type": "stream",
     "text": [
      "BV earned $2790704750 from all of their movies in the top 30.\n",
      "Uni. earned $968317660 from all of their movies in the top 30.\n",
      "WB earned $1411324635 from all of their movies in the top 30.\n",
      "Fox earned $534474626 from all of their movies in the top 30.\n",
      "Par. earned $535379054 from all of their movies in the top 30.\n",
      "Sony earned $686215417 from all of their movies in the top 30.\n",
      "WB (NL) earned $117450119 from all of their movies in the top 30.\n",
      "MGM earned $115715889 from all of their movies in the top 30.\n"
     ]
    }
   ],
   "source": [
    "studio_list = df_box['Studio'].unique()\n",
    "\n",
    "for i in range(len(studio_list)):\n",
    "    sum = df_box[df_box['Studio'] == studio_list[i]]['Total_Gross'].sum()\n",
    "    print(\"{} earned ${} from all of their movies in the top 30.\".format(studio_list[i], sum))"
   ]
  },
  {
   "cell_type": "markdown",
   "metadata": {},
   "source": [
    "9) Sort the \"Opening\" column in descending order (i.e., highest opening first) and display the data of the top 5 \"Opening\". What movie has the third-highest opening? Answer this in the markdown cell below."
   ]
  },
  {
   "cell_type": "code",
   "execution_count": null,
   "metadata": {},
   "outputs": [
    {
     "data": {
      "text/html": [
       "<div>\n",
       "<style scoped>\n",
       "    .dataframe tbody tr th:only-of-type {\n",
       "        vertical-align: middle;\n",
       "    }\n",
       "\n",
       "    .dataframe tbody tr th {\n",
       "        vertical-align: top;\n",
       "    }\n",
       "\n",
       "    .dataframe thead th {\n",
       "        text-align: right;\n",
       "    }\n",
       "</style>\n",
       "<table border=\"1\" class=\"dataframe\">\n",
       "  <thead>\n",
       "    <tr style=\"text-align: right;\">\n",
       "      <th></th>\n",
       "      <th>Rank</th>\n",
       "      <th>Movie_Title</th>\n",
       "      <th>Studio</th>\n",
       "      <th>Total_Gross</th>\n",
       "      <th>Theaters_Total</th>\n",
       "      <th>Opening</th>\n",
       "      <th>Theaters_Opening</th>\n",
       "    </tr>\n",
       "  </thead>\n",
       "  <tbody>\n",
       "    <tr>\n",
       "      <th>1</th>\n",
       "      <td>2</td>\n",
       "      <td>Avengers: Infinity War</td>\n",
       "      <td>BV</td>\n",
       "      <td>678815482</td>\n",
       "      <td>4,474</td>\n",
       "      <td>257698183</td>\n",
       "      <td>4474</td>\n",
       "    </tr>\n",
       "    <tr>\n",
       "      <th>0</th>\n",
       "      <td>1</td>\n",
       "      <td>Black Panther</td>\n",
       "      <td>BV</td>\n",
       "      <td>700059566</td>\n",
       "      <td>4,084</td>\n",
       "      <td>202003951</td>\n",
       "      <td>4020</td>\n",
       "    </tr>\n",
       "    <tr>\n",
       "      <th>2</th>\n",
       "      <td>3</td>\n",
       "      <td>Incredibles 2</td>\n",
       "      <td>BV</td>\n",
       "      <td>608581744</td>\n",
       "      <td>4,410</td>\n",
       "      <td>182687905</td>\n",
       "      <td>4410</td>\n",
       "    </tr>\n",
       "    <tr>\n",
       "      <th>3</th>\n",
       "      <td>4</td>\n",
       "      <td>Jurassic World: Fallen Kingdom</td>\n",
       "      <td>Uni.</td>\n",
       "      <td>417719760</td>\n",
       "      <td>4,485</td>\n",
       "      <td>148024610</td>\n",
       "      <td>4475</td>\n",
       "    </tr>\n",
       "    <tr>\n",
       "      <th>5</th>\n",
       "      <td>6</td>\n",
       "      <td>Deadpool 2</td>\n",
       "      <td>Fox</td>\n",
       "      <td>318491426</td>\n",
       "      <td>4,349</td>\n",
       "      <td>125507153</td>\n",
       "      <td>4349</td>\n",
       "    </tr>\n",
       "  </tbody>\n",
       "</table>\n",
       "</div>"
      ],
      "text/plain": [
       "   Rank                     Movie_Title Studio  Total_Gross Theaters_Total  \\\n",
       "1     2          Avengers: Infinity War     BV    678815482          4,474   \n",
       "0     1                   Black Panther     BV    700059566          4,084   \n",
       "2     3                   Incredibles 2     BV    608581744          4,410   \n",
       "3     4  Jurassic World: Fallen Kingdom   Uni.    417719760          4,485   \n",
       "5     6                      Deadpool 2    Fox    318491426          4,349   \n",
       "\n",
       "     Opening  Theaters_Opening  \n",
       "1  257698183              4474  \n",
       "0  202003951              4020  \n",
       "2  182687905              4410  \n",
       "3  148024610              4475  \n",
       "5  125507153              4349  "
      ]
     },
     "execution_count": 143,
     "metadata": {},
     "output_type": "execute_result"
    }
   ],
   "source": [
    "df_box_sorted = df_box.sort_values(by = ['Opening'], ascending= False)\n",
    "df_box_sorted.head()"
   ]
  },
  {
   "cell_type": "code",
   "execution_count": null,
   "metadata": {},
   "outputs": [
    {
     "data": {
      "text/plain": [
       "'Incredibles 2'"
      ]
     },
     "execution_count": 145,
     "metadata": {},
     "output_type": "execute_result"
    }
   ],
   "source": [
    "# Third-highest opening movie\n",
    "df_box_sorted['Movie_Title'].loc[2]"
   ]
  },
  {
   "cell_type": "markdown",
   "metadata": {},
   "source": [
    "Answer:\n",
    "\n",
    "The \"Incredibles 2\" has third-highest opening"
   ]
  },
  {
   "cell_type": "markdown",
   "metadata": {},
   "source": []
  },
  {
   "cell_type": "markdown",
   "metadata": {},
   "source": [
    "# Problem 6. (15 bonus points) Linear Regression"
   ]
  },
  {
   "cell_type": "markdown",
   "metadata": {},
   "source": [
    "Download the file `data_linear_regression.csv` and create a DataFrame from this data"
   ]
  },
  {
   "cell_type": "code",
   "execution_count": 31,
   "metadata": {},
   "outputs": [
    {
     "data": {
      "text/html": [
       "<div>\n",
       "<style scoped>\n",
       "    .dataframe tbody tr th:only-of-type {\n",
       "        vertical-align: middle;\n",
       "    }\n",
       "\n",
       "    .dataframe tbody tr th {\n",
       "        vertical-align: top;\n",
       "    }\n",
       "\n",
       "    .dataframe thead th {\n",
       "        text-align: right;\n",
       "    }\n",
       "</style>\n",
       "<table border=\"1\" class=\"dataframe\">\n",
       "  <thead>\n",
       "    <tr style=\"text-align: right;\">\n",
       "      <th></th>\n",
       "      <th>x1</th>\n",
       "      <th>x2</th>\n",
       "      <th>x3</th>\n",
       "      <th>y</th>\n",
       "    </tr>\n",
       "  </thead>\n",
       "  <tbody>\n",
       "    <tr>\n",
       "      <th>0</th>\n",
       "      <td>0.148227</td>\n",
       "      <td>0.446577</td>\n",
       "      <td>-1.009014</td>\n",
       "      <td>4.138490</td>\n",
       "    </tr>\n",
       "    <tr>\n",
       "      <th>1</th>\n",
       "      <td>0.353487</td>\n",
       "      <td>-0.648183</td>\n",
       "      <td>0.796402</td>\n",
       "      <td>2.980097</td>\n",
       "    </tr>\n",
       "    <tr>\n",
       "      <th>2</th>\n",
       "      <td>-1.087250</td>\n",
       "      <td>-0.622992</td>\n",
       "      <td>-0.667353</td>\n",
       "      <td>3.507599</td>\n",
       "    </tr>\n",
       "    <tr>\n",
       "      <th>3</th>\n",
       "      <td>0.247096</td>\n",
       "      <td>1.072407</td>\n",
       "      <td>1.910038</td>\n",
       "      <td>17.975063</td>\n",
       "    </tr>\n",
       "    <tr>\n",
       "      <th>4</th>\n",
       "      <td>-0.156840</td>\n",
       "      <td>-0.557375</td>\n",
       "      <td>1.317638</td>\n",
       "      <td>2.496506</td>\n",
       "    </tr>\n",
       "  </tbody>\n",
       "</table>\n",
       "</div>"
      ],
      "text/plain": [
       "         x1        x2        x3          y\n",
       "0  0.148227  0.446577 -1.009014   4.138490\n",
       "1  0.353487 -0.648183  0.796402   2.980097\n",
       "2 -1.087250 -0.622992 -0.667353   3.507599\n",
       "3  0.247096  1.072407  1.910038  17.975063\n",
       "4 -0.156840 -0.557375  1.317638   2.496506"
      ]
     },
     "execution_count": 31,
     "metadata": {},
     "output_type": "execute_result"
    }
   ],
   "source": [
    "import pandas as pd\n",
    "\n",
    "df = pd.read_csv('data_linear_regression.csv')\n",
    "df.head()"
   ]
  },
  {
   "cell_type": "markdown",
   "metadata": {},
   "source": [
    "Using the method head or info you will see that there are 4 columns. x1, x2, x3 are input(independent) variables and y is the response(dependent) variable. We will perform ordinary linear regression on this data based on two guesses."
   ]
  },
  {
   "cell_type": "markdown",
   "metadata": {},
   "source": [
    "**1st model:** $y = \\beta_0 + \\beta_1 x_1 + \\beta_2 x_2 + \\beta_3 x_3$\n",
    "Perform ordinary linear regression (use `ols` in `statsmodels.formula.api` (we imported this as `smf`)) to find the coefficients \n",
    "- Print out the test statistics using the `summary` method."
   ]
  },
  {
   "cell_type": "code",
   "execution_count": 32,
   "metadata": {},
   "outputs": [
    {
     "name": "stdout",
     "output_type": "stream",
     "text": [
      "                            OLS Regression Results                            \n",
      "==============================================================================\n",
      "Dep. Variable:                      y   R-squared:                       0.364\n",
      "Model:                            OLS   Adj. R-squared:                  0.322\n",
      "Method:                 Least Squares   F-statistic:                     8.766\n",
      "Date:                Sun, 03 Jul 2022   Prob (F-statistic):           0.000105\n",
      "Time:                        20:17:15   Log-Likelihood:                -170.25\n",
      "No. Observations:                  50   AIC:                             348.5\n",
      "Df Residuals:                      46   BIC:                             356.2\n",
      "Df Model:                           3                                         \n",
      "Covariance Type:            nonrobust                                         \n",
      "==============================================================================\n",
      "                 coef    std err          t      P>|t|      [0.025      0.975]\n",
      "------------------------------------------------------------------------------\n",
      "Intercept      3.9764      1.081      3.680      0.001       1.801       6.152\n",
      "x1            -0.0676      1.061     -0.064      0.949      -2.203       2.068\n",
      "x2             6.0327      1.290      4.678      0.000       3.437       8.629\n",
      "x3             2.7438      0.985      2.786      0.008       0.761       4.726\n",
      "==============================================================================\n",
      "Omnibus:                        6.370   Durbin-Watson:                   1.659\n",
      "Prob(Omnibus):                  0.041   Jarque-Bera (JB):                7.000\n",
      "Skew:                          -0.419   Prob(JB):                       0.0302\n",
      "Kurtosis:                       4.631   Cond. No.                         1.40\n",
      "==============================================================================\n",
      "\n",
      "Notes:\n",
      "[1] Standard Errors assume that the covariance matrix of the errors is correctly specified.\n"
     ]
    }
   ],
   "source": [
    "import statsmodels.formula.api as smf\n",
    "\n",
    "model1 = smf.ols('y ~ x1 + x2 + x3', data= df)\n",
    "fit1 = model1.fit()\n",
    "print(fit1.summary())"
   ]
  },
  {
   "cell_type": "markdown",
   "metadata": {},
   "source": [
    "Answer the following questions:\n",
    "-  What are the cofficients $\\beta_0, \\beta_1, \\beta_2, \\beta_3 $ (in our model: $y = \\beta_0 + \\beta_1 x_1 + \\beta_2 x_2 + \\beta_3 x_3$)?\n",
    "-  By looking at just the $t$-statistics, which coefficient is most likely to be non-zero?\n",
    "-  What is the R-squared of our first model? Do you think this model fits the data very well?  Why?"
   ]
  },
  {
   "cell_type": "markdown",
   "metadata": {},
   "source": [
    "Conclusion:\n",
    "\n",
    "The cofficients: beta0 = 3.9764, beta1 = -0.0676, beta2 = 6.0327, beta3 = 2.7438.\n",
    "\n",
    "Beta2 is most likely to be non-zero since it has a largest t-statistic, which means its standard error is small in comparision to its coefficient.\n",
    "\n",
    "R-squared of our first model is 0.364, which means the regression model does not fit the observation very well.\n",
    "_________________________________________________________________________________________________________________________________________________________"
   ]
  },
  {
   "cell_type": "markdown",
   "metadata": {},
   "source": [
    "Let's try to include all interaction terms of the input variables $x_1, x_2, x_3$.\n",
    "What are all the possible interaction terms? (Hint: all the $x_i x_j$). Add your answers to the equations in the cell below with a coefficient $\\beta_i$ in front."
   ]
  },
  {
   "cell_type": "markdown",
   "metadata": {},
   "source": [
    "**2st model:** $y = \\beta_0 + \\beta_1 x_1 + \\beta_2 x_2 + \\beta_3 x_3 $ + ...(add your interaction terms here)..."
   ]
  },
  {
   "cell_type": "markdown",
   "metadata": {},
   "source": [
    "- Perform ordinary linear regression (use `ols` in `statsmodels.formula.api` (we imported this as `smf`)) to find the coefficients \n",
    "- Print out the test statistics using the `summary` method."
   ]
  },
  {
   "cell_type": "code",
   "execution_count": 33,
   "metadata": {},
   "outputs": [
    {
     "name": "stdout",
     "output_type": "stream",
     "text": [
      "                            OLS Regression Results                            \n",
      "==============================================================================\n",
      "Dep. Variable:                      y   R-squared:                       0.997\n",
      "Model:                            OLS   Adj. R-squared:                  0.997\n",
      "Method:                 Least Squares   F-statistic:                     2590.\n",
      "Date:                Sun, 03 Jul 2022   Prob (F-statistic):           2.50e-53\n",
      "Time:                        20:17:19   Log-Likelihood:                -34.241\n",
      "No. Observations:                  50   AIC:                             82.48\n",
      "Df Residuals:                      43   BIC:                             95.87\n",
      "Df Model:                           6                                         \n",
      "Covariance Type:            nonrobust                                         \n",
      "==============================================================================\n",
      "                 coef    std err          t      P>|t|      [0.025      0.975]\n",
      "------------------------------------------------------------------------------\n",
      "Intercept      3.9590      0.075     53.017      0.000       3.808       4.110\n",
      "x1             3.1222      0.080     38.840      0.000       2.960       3.284\n",
      "x2             4.9514      0.089     55.775      0.000       4.772       5.130\n",
      "x3             2.0158      0.069     29.417      0.000       1.878       2.154\n",
      "x1:x2          3.9754      0.102     39.140      0.000       3.771       4.180\n",
      "x1:x3          6.0570      0.063     95.603      0.000       5.929       6.185\n",
      "x2:x3         -0.0775      0.082     -0.945      0.350      -0.243       0.088\n",
      "==============================================================================\n",
      "Omnibus:                        2.916   Durbin-Watson:                   2.176\n",
      "Prob(Omnibus):                  0.233   Jarque-Bera (JB):                2.262\n",
      "Skew:                          -0.518   Prob(JB):                        0.323\n",
      "Kurtosis:                       3.110   Cond. No.                         2.09\n",
      "==============================================================================\n",
      "\n",
      "Notes:\n",
      "[1] Standard Errors assume that the covariance matrix of the errors is correctly specified.\n"
     ]
    }
   ],
   "source": [
    "model2= smf.ols('y ~ x1 + x2 + x3 + x1*x2 + x1*x3 + x2*x3', data= df)\n",
    "fit2 = model2.fit()\n",
    "print(fit2.summary())"
   ]
  },
  {
   "cell_type": "markdown",
   "metadata": {},
   "source": [
    "Answer the following questions:\n",
    "-  What are the cofficients $\\beta_0, \\beta_1, ..., \\beta_6 $ in this model?\n",
    "-  Which interaction term has the coefficient that is largest in magnitude(meaning it has the most significant predictive power)?\n",
    "-  What is the R-squared of our second model? Do you think this model fits the data very well?  Why?"
   ]
  },
  {
   "cell_type": "markdown",
   "metadata": {},
   "source": [
    "Conclusion:\n",
    "\n",
    "The cofficients: beta0 = 3.9590, beta1 = 3.1222, beta2 = 4.9514, beta3 = 2.0158, beta4 = 3.9754, beta5 = 6.0570, beta6 = -0.0775.\n",
    "\n",
    "x1:x3 has the coefficient that is largest in magnitude.\n",
    "\n",
    "R-squared of our second model is 0.997, which means the regression model fits the observation very well.\n",
    "_________________________________________________________________________________________________________________________________________________________"
   ]
  }
 ],
 "metadata": {
  "anaconda-cloud": {},
  "kernelspec": {
   "display_name": "Python 3.10.4 64-bit",
   "language": "python",
   "name": "python3"
  },
  "language_info": {
   "codemirror_mode": {
    "name": "ipython",
    "version": 3
   },
   "file_extension": ".py",
   "mimetype": "text/x-python",
   "name": "python",
   "nbconvert_exporter": "python",
   "pygments_lexer": "ipython3",
   "version": "3.10.4"
  },
  "latex_envs": {
   "LaTeX_envs_menu_present": true,
   "autocomplete": true,
   "bibliofile": "biblio.bib",
   "cite_by": "apalike",
   "current_citInitial": 1,
   "eqLabelWithNumbers": true,
   "eqNumInitial": 1,
   "hotkeys": {
    "equation": "Ctrl-E",
    "itemize": "Ctrl-I"
   },
   "labels_anchors": false,
   "latex_user_defs": false,
   "report_style_numbering": false,
   "user_envs_cfg": false
  },
  "vscode": {
   "interpreter": {
    "hash": "70bd44d7b8936ce0ef5a810747a06bf791e34f7a77e3db5d7c719fb02184a935"
   }
  }
 },
 "nbformat": 4,
 "nbformat_minor": 2
}
