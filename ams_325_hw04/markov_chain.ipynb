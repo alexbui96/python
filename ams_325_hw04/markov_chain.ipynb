{
 "cells": [
  {
   "cell_type": "code",
   "execution_count": 5,
   "metadata": {},
   "outputs": [],
   "source": [
    "import numpy as np\n",
    "import pandas as pd\n",
    "import random"
   ]
  },
  {
   "cell_type": "code",
   "execution_count": 13,
   "metadata": {},
   "outputs": [],
   "source": [
    "def inital_vector(n):\n",
    "    vec = np.random.random(n)\n",
    "    vec /= vec.sum()\n",
    "\n",
    "    return vec\n",
    "\n",
    "def transition_maxtrix(n):\n",
    "\n",
    "    matrix = np.random.rand(n,n)\n",
    "    for row in range(n):\n",
    "        matrix[row] /= matrix[row].sum()\n",
    "\n",
    "    return matrix\n",
    "\n",
    "def transition_compute(p, P, n, N):\n",
    "\n",
    "    for _ in range(N):\n",
    "        p = np.matmul(np.transpose(P),p)\n",
    "    \n",
    "    return p"
   ]
  },
  {
   "cell_type": "code",
   "execution_count": 14,
   "metadata": {},
   "outputs": [
    {
     "data": {
      "text/plain": [
       "array([0.20192097, 0.16528116, 0.20988352, 0.18891333, 0.23400102])"
      ]
     },
     "execution_count": 14,
     "metadata": {},
     "output_type": "execute_result"
    }
   ],
   "source": [
    "n = 5\n",
    "N = 50\n",
    "\n",
    "p = inital_vector(n)\n",
    "P = transition_maxtrix(n)\n",
    "p1 = transition_compute(p,P,n,N)"
   ]
  }
 ],
 "metadata": {
  "kernelspec": {
   "display_name": "Python 3.9.5 64-bit",
   "language": "python",
   "name": "python3"
  },
  "language_info": {
   "codemirror_mode": {
    "name": "ipython",
    "version": 3
   },
   "file_extension": ".py",
   "mimetype": "text/x-python",
   "name": "python",
   "nbconvert_exporter": "python",
   "pygments_lexer": "ipython3",
   "version": "3.9.5"
  },
  "orig_nbformat": 4,
  "vscode": {
   "interpreter": {
    "hash": "aee8b7b246df8f9039afb4144a1f6fd8d2ca17a180786b69acc140d282b71a49"
   }
  }
 },
 "nbformat": 4,
 "nbformat_minor": 2
}
