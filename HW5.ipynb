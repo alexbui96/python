{
 "cells": [
  {
   "cell_type": "markdown",
   "metadata": {},
   "source": [
    "# AMS 325 Homework 5\n",
    "\n",
    "This homework uses pacakges `sympy`, `numpy`, `scipy`, `pandas`. There are 100 points plus 30 bonus points."
   ]
  },
  {
   "cell_type": "markdown",
   "metadata": {},
   "source": [
    "## Problem 1 (20 points + 5 bonus points) Root finding\n",
    "\n",
    "Here is a cubic polynomial with three closely spaced real roots:\n",
    "\n",
    "$$ p(x) = 816 x^3 - 3835 x^2 + 6000 x - 3125 $$\n",
    "\n",
    "(1a) (5 points) Use SymPy (http://docs.sympy.org/latest/index.html) to find symbolic expressions for the three roots (i.e., the values of $x$ where $p(x) = 0$).\n",
    "\n",
    "(Hint:  Below we show how to use SymPy to solve for the roots of the quadratic polynomial $-x^2  - x + 12$. You just need to modify that code once you understand how the code works.)"
   ]
  },
  {
   "cell_type": "code",
   "execution_count": null,
   "metadata": {},
   "outputs": [],
   "source": [
    "import sympy\n",
    "import numpy as np\n",
    "\n",
    "# Modify these to find the roots of the given cubic polynomial\n",
    "x = sympy.symbols('x')\n",
    "roots = sympy.roots(-x**2 - x + 12)\n",
    "print(roots)\n",
    "xroots = [sympy.N(r) for r in roots]  # Compute the numerical values \n",
    "print(xroots)\n",
    "\n",
    "print(np.roots([-1.0, -1.0, 12.0]))\n"
   ]
  },
  {
   "cell_type": "markdown",
   "metadata": {},
   "source": [
    "(1b) (10 points) Plot $p(x)$ for $1.43 \\le x \\le 1.71$ using a solid line and mark the location of the three roots using circles on the plot"
   ]
  },
  {
   "cell_type": "code",
   "execution_count": null,
   "metadata": {},
   "outputs": [],
   "source": [
    "import matplotlib.pyplot as plt\n",
    "%matplotlib inline\n",
    "\n",
    "# Answer\n"
   ]
  },
  {
   "cell_type": "markdown",
   "metadata": {},
   "source": [
    "(1c) (10 points) Use the function [`scipy.optimize.fsolve`](https://docs.scipy.org/doc/scipy-0.18.1/reference/generated/scipy.optimize.fsolve.html) with starting guesses $x0=1$, $x0=1.6$ and $x0=1.7$ to compute the three roots."
   ]
  },
  {
   "cell_type": "code",
   "execution_count": null,
   "metadata": {},
   "outputs": [],
   "source": [
    "import scipy.optimize as opt\n",
    "\n",
    "# Useful function\n"
   ]
  },
  {
   "cell_type": "markdown",
   "metadata": {},
   "source": [
    "(1d) (10 bonus points) The secant method is a method for solving nonlinear equations. It\n",
    "uses two points to draw a secant line and use the intersection of the secant line\n",
    "with the $x$-axis to determine a third (new) point at each step.\n",
    "\n",
    "The intersection of the secant line with the $x$-axis is given by\n",
    "$$x_{k+1} = x_k - \\frac{f(x_k)}{s_k} = x_k + \\frac{x_k-x_{k-1}}{f(x_{k-1}) / f(x_k) - 1}.$$\n",
    "\n",
    "Complete the implementation of the secant method below..."
   ]
  },
  {
   "cell_type": "code",
   "execution_count": null,
   "metadata": {},
   "outputs": [],
   "source": [
    "def secant(f, a, b, tol=0):\n",
    "    '''\n",
    "    Uses secant method to search for a root  of f(x) in the interval [a,b].\n",
    "    Tol is the convergence threshold on x. If not set a default is provided.\n",
    "    Returns the root and the number of iterations needed to find it.\n",
    "    '''\n",
    "    if tol <= 0:\n",
    "        tol = np.finfo(float).eps\n",
    "\n",
    "    fa = f(a)\n",
    "    for k in range(100):\n",
    "        fb = f(b)\n",
    "        if abs(fb) == 0:\n",
    "            x = b\n",
    "            break\n",
    "\n",
    "        # TODO: compute x based on the formula above\n",
    "        # x = ...\n",
    "\n",
    "        if abs(delta) < tol*abs(b):\n",
    "            break\n",
    "        a, fa = b, fb\n",
    "        b = x\n",
    "\n",
    "    return x, k"
   ]
  },
  {
   "cell_type": "markdown",
   "metadata": {},
   "source": [
    "and then use your implementation of the secant method to find the root by starting start with $a = 1$ and $b = 2$."
   ]
  },
  {
   "cell_type": "code",
   "execution_count": null,
   "metadata": {},
   "outputs": [],
   "source": [
    "# Answer\n"
   ]
  },
  {
   "cell_type": "markdown",
   "metadata": {},
   "source": [
    "## Problem 2 (20 points) Integration\n",
    "\n",
    "(2a) (5 points) Using the `scipy.integrate.quad` function to compute the integral numerically:\n",
    "$$I = \\int_0^1 \\cos(2\\pi x) dx.$$"
   ]
  },
  {
   "cell_type": "code",
   "execution_count": null,
   "metadata": {},
   "outputs": [],
   "source": [
    "# useful functions\n",
    "import scipy\n",
    "import scipy.integrate as integrate\n"
   ]
  },
  {
   "cell_type": "code",
   "execution_count": null,
   "metadata": {},
   "outputs": [],
   "source": [
    "# Answer\n"
   ]
  },
  {
   "cell_type": "markdown",
   "metadata": {},
   "source": [
    "(2b) (5 points) Find the analytical integral of (a) using `sympy.integrate` and compare it with the numerical solution."
   ]
  },
  {
   "cell_type": "code",
   "execution_count": null,
   "metadata": {},
   "outputs": [],
   "source": [
    "# Answer\n"
   ]
  },
  {
   "cell_type": "markdown",
   "metadata": {},
   "source": [
    "(2c) (10 points) Use the `scipy.integrate.dblquad` function in SciPy to compute the following integral numerically:\n",
    "$$ I = \\int_{y=0}^{1/2}\\int_{x=0}^{1-2y} xy dx dy.$$"
   ]
  },
  {
   "cell_type": "code",
   "execution_count": null,
   "metadata": {},
   "outputs": [],
   "source": [
    "# useful functions\n"
   ]
  },
  {
   "cell_type": "code",
   "execution_count": null,
   "metadata": {},
   "outputs": [],
   "source": [
    "# Answer\n"
   ]
  },
  {
   "cell_type": "markdown",
   "metadata": {},
   "source": [
    "## Problem 3 (20 points + 5 bonus points) Minimization\n",
    "\n",
    "Consider the function $p(x) = 9 x^2 - 6 x + 2$.\n",
    "\n",
    "(3a) (5 points) Compute a critical value of of $p(x)$ by solving $p^\\prime (x) = 0$ using SymPy.\n"
   ]
  },
  {
   "cell_type": "code",
   "execution_count": null,
   "metadata": {},
   "outputs": [],
   "source": [
    "import sympy\n",
    "# useful function: sympy.diff"
   ]
  },
  {
   "cell_type": "code",
   "execution_count": null,
   "metadata": {},
   "outputs": [],
   "source": [
    "# Answer:\n"
   ]
  },
  {
   "cell_type": "markdown",
   "metadata": {},
   "source": [
    "(3b) (5 points) Use `scipy.optimize.minimize_scalar` function to compute the minimum of $p(x)$."
   ]
  },
  {
   "cell_type": "code",
   "execution_count": null,
   "metadata": {},
   "outputs": [],
   "source": [
    "# Answer:"
   ]
  },
  {
   "cell_type": "markdown",
   "metadata": {},
   "source": [
    "(3c) (5 points) Use the `scipy.optimize.minimize` function to compute the minimum of\n",
    "the [Rosenbrock function](https://en.wikipedia.org/wiki/Rosenbrock_function)\n",
    "\n",
    "$$ f(x,y) = 100(y-x^2)^2 + (1-x)^2, $$\n",
    "\n",
    "starting from $(x,y) = (0, 0)$. Note that the global minimum is found at $x^*=(1, 1).$ \n",
    "Use the BFGS method to solve it."
   ]
  },
  {
   "cell_type": "code",
   "execution_count": null,
   "metadata": {},
   "outputs": [],
   "source": [
    "# Answer:\n"
   ]
  },
  {
   "cell_type": "markdown",
   "metadata": {},
   "source": [
    "(3d) (10 points) Repeat the problem in (c) but solve it using the Newton-CG method.\n",
    "Note that you need to provide the Jacobian (the gradient vector), which you can\n",
    "compute using `sympy` or compute by hand.\n",
    "\n",
    "Some useful functions include `sympy.diff`, `sympy.lambdify`, and `scipy.optimize.minimize`."
   ]
  },
  {
   "cell_type": "code",
   "execution_count": null,
   "metadata": {},
   "outputs": [],
   "source": [
    "# Answer\n"
   ]
  },
  {
   "cell_type": "markdown",
   "metadata": {},
   "source": [
    "(3e) (10 bonus points) The $N$-dimensional Rosenbrock function is given by\n",
    "\n",
    "$$ f(x) = \\sum_{i=1}^{N-1} \\left(100(x_{i+1}-x_{i}^2)^2 + (1-x_i)^2 \\right), $$\n",
    "\n",
    "where $x=(x_1, x_2, \\dots, x_N) \\in \\mathbb{R}^N$.\n",
    "\n",
    "Adapt the code above in Part (d) to N=10 starting from the initial guess $(0, 0, \\dots, 0)$."
   ]
  },
  {
   "cell_type": "code",
   "execution_count": null,
   "metadata": {},
   "outputs": [],
   "source": [
    "# Answer\n"
   ]
  },
  {
   "cell_type": "markdown",
   "metadata": {},
   "source": [
    "# Problem 4. (20 points + 5 bonus points) Object-Oriented Programming (OOP)\n",
    "\n",
    "(4a) (10 points) Define a `BankAccount` class with `owners`, `number`,\n",
    "and `balance` instant attributes as well as `deposit` and `withdraw` methods.\n",
    "The attributes should be defined in the `__init__` method. The `deposit`\n",
    "and `withdraw` should take `amount` as input argument and should update\n",
    "the `balance` attribute.\n",
    "\n",
    "Also write a `__str__` method for printing. Document the class and methods\n",
    "with docstrings."
   ]
  },
  {
   "cell_type": "code",
   "execution_count": null,
   "metadata": {},
   "outputs": [],
   "source": [
    "# Answer\n"
   ]
  },
  {
   "cell_type": "markdown",
   "metadata": {},
   "source": [
    "Test your implementation by creating an instance and testing its methods.\n",
    "You can use a list of character strings (names) for `owners`."
   ]
  },
  {
   "cell_type": "code",
   "execution_count": null,
   "metadata": {},
   "outputs": [],
   "source": [
    "# Answer\n"
   ]
  },
  {
   "cell_type": "markdown",
   "metadata": {},
   "source": [
    "(4b) (10 points) Create a subclass `InterestAccount`, which\n",
    "inherits all of the variables and methods of the `BankAccount`\n",
    "class. Add `interest_rate` and `minimum_balance` as a new\n",
    "attribute and a new method `compute_interest` (for simplicity,\n",
    "just multiply the balance with the `interest_rate`). Make\n",
    "sure you call the `__init__`\n",
    "function of the superclass `BankAccount`. Also, overwrite the\n",
    "`withdraw` method to reject the withdrawal if the balance would\n",
    "fall below `minimum_balance`.\n",
    "\n",
    "Document the class and methods with docstrings."
   ]
  },
  {
   "cell_type": "code",
   "execution_count": null,
   "metadata": {},
   "outputs": [],
   "source": [
    "# Answer\n"
   ]
  },
  {
   "cell_type": "markdown",
   "metadata": {},
   "source": [
    "(4c) (10 points) Create a class `Customer` with attributes\n",
    "`name`, `birthday`, `gender`, `id_number`, and `accounts`.\n",
    "\n",
    "Write a method `create_account`, which creates an\n",
    "`InterestAccount` with the customer as the owner, append the\n",
    "created account to the `accounts` attribute of the `Customer`\n",
    "object. Test your implementation by creating multiple accounts\n",
    "for a customer."
   ]
  },
  {
   "cell_type": "code",
   "execution_count": null,
   "metadata": {},
   "outputs": [],
   "source": [
    "# Answer\n"
   ]
  },
  {
   "cell_type": "markdown",
   "metadata": {},
   "source": [
    "(4d) (10 bonus points)\n",
    "In this problem, we practice many-to-many relationships: rewrite the\n",
    "`Customer` class to add a new method\n",
    "`link_account`, which should append a customer as\n",
    "another owner to a `InterestAccount` and add the account\n",
    "to the customer's list of accounts."
   ]
  },
  {
   "cell_type": "code",
   "execution_count": null,
   "metadata": {},
   "outputs": [],
   "source": [
    "# Answer\n"
   ]
  },
  {
   "cell_type": "markdown",
   "metadata": {},
   "source": [
    "Rewrite `InterestAccount` by adding a new method `close_account` in\n",
    "`InterestAccount`, which should remove the account from its owners.\n"
   ]
  },
  {
   "cell_type": "code",
   "execution_count": null,
   "metadata": {},
   "outputs": [],
   "source": [
    "# Answer\n"
   ]
  },
  {
   "cell_type": "markdown",
   "metadata": {},
   "source": [
    "Write code to test your implementation by creating\n",
    "multiple customers and multiple accounts with joint\n",
    "owners, and deleting some of the accounts."
   ]
  },
  {
   "cell_type": "code",
   "execution_count": 1,
   "metadata": {},
   "outputs": [],
   "source": [
    "# Answer\n",
    "\n"
   ]
  },
  {
   "cell_type": "markdown",
   "metadata": {},
   "source": [
    "# Problem 5. (20 points) Pandas & Statistical Modeling\n",
    "\n",
    "First, we will need to import the following libraries:"
   ]
  },
  {
   "cell_type": "code",
   "execution_count": 2,
   "metadata": {},
   "outputs": [],
   "source": [
    "import pandas as pd\n",
    "import numpy as np\n",
    "\n",
    "import statsmodels.api as sm \n",
    "import statsmodels.formula.api as smf\n",
    "import statsmodels.graphics.api as smg\n",
    "\n",
    "import matplotlib.pyplot as plt\n",
    "%matplotlib inline"
   ]
  },
  {
   "cell_type": "markdown",
   "metadata": {},
   "source": [
    "1) Create a pandas Series object with values given by the first 10 positive even integers (2, 4, ..., 20) and with indices given by the first 10 letters of English alphabet. Display the result."
   ]
  },
  {
   "cell_type": "code",
   "execution_count": null,
   "metadata": {},
   "outputs": [],
   "source": []
  },
  {
   "cell_type": "markdown",
   "metadata": {},
   "source": [
    "2) Download the file BoxOffice2018.csv to your current directory and use read_csv function in Pandas to read this csv file and create a DataFrame named \"df_box\". This data is the top 30 highest earning movies in 2018. The data is from www.boxofficemojo.com."
   ]
  },
  {
   "cell_type": "code",
   "execution_count": null,
   "metadata": {},
   "outputs": [],
   "source": []
  },
  {
   "cell_type": "markdown",
   "metadata": {},
   "source": [
    "3) Let's rename some columns so that we can access them as attributes in Python.\n",
    "\n",
    "Rename the column \"Total Gross / Theaters\" to \"Total_Gross\"\n",
    "Raname the column \"Unnamed: 4\" (it's the column to the right of \"\"Total Gross / Theaters\") to \"Theaters_Total\"\n",
    "Raname the column \"Opening / Theaters\" to \"Opening\"\n",
    "Raname the column \"Unnamed: 6\" to \"Theaters_Opening\"\n",
    "Display the first 5 rows to show the result."
   ]
  },
  {
   "cell_type": "code",
   "execution_count": null,
   "metadata": {},
   "outputs": [],
   "source": []
  },
  {
   "cell_type": "markdown",
   "metadata": {},
   "source": [
    "4) Delete the columns \"Open\" and \"Close\" so that we have a cleaner data."
   ]
  },
  {
   "cell_type": "code",
   "execution_count": null,
   "metadata": {},
   "outputs": [],
   "source": []
  },
  {
   "cell_type": "markdown",
   "metadata": {},
   "source": [
    "5) The columns that contain \"numbers\" are not of numerical type. We will convert them to integers.\n",
    "\n",
    "In the \"Total_Gross\" and \"Opening\", remove the \"$\" and \",\" and casts the results to integers. Replace the original columns with the transformed columns.\n",
    "In the \"Theaters_Total\" and \"Theaters_Opening\", remove the \",\" and casts the results to integers\n",
    "Display the result with df_box.head()\n",
    "Check the types of columns by using df_box.info() . (now you should those columns are now of int64(integer) type)"
   ]
  },
  {
   "cell_type": "code",
   "execution_count": null,
   "metadata": {},
   "outputs": [],
   "source": []
  },
  {
   "cell_type": "markdown",
   "metadata": {},
   "source": [
    "6) Now we are ready to compute some statistics (of these top 30 movies). Write a code to answer the following questions:\n",
    "\n",
    "What is the standard deviation of the total gross?\n",
    "What is the mininum of \"Theaters_Total\"?\n",
    "What is the maximum of \"Theaters_Opening\"?\n",
    "What is the 80 percentile (0.8 quantile) of \"Opening\"?"
   ]
  },
  {
   "cell_type": "code",
   "execution_count": null,
   "metadata": {},
   "outputs": [],
   "source": []
  },
  {
   "cell_type": "markdown",
   "metadata": {},
   "source": [
    "7) Write a code to find how many movies (in the top30) each studio made. (e.g. BV (Buenva Vista) produced 7 movies that were in the top30), ...). Display your answer."
   ]
  },
  {
   "cell_type": "code",
   "execution_count": null,
   "metadata": {},
   "outputs": [],
   "source": []
  },
  {
   "cell_type": "markdown",
   "metadata": {},
   "source": [
    "8) How much money (from Total_Gross) did each studio earn from all of their movies in the top30? (Note: to make it easy, you don't need to combine \"WB\" and \"WB(NL)\"). Display your result."
   ]
  },
  {
   "cell_type": "code",
   "execution_count": null,
   "metadata": {},
   "outputs": [],
   "source": []
  },
  {
   "cell_type": "markdown",
   "metadata": {},
   "source": [
    "9) Sort the \"Opening\" column in descending order (i.e., highest opening first) and display the data of the top 5 \"Opening\". What movie has the third-highest opening? Answer this in the markdown cell below."
   ]
  },
  {
   "cell_type": "code",
   "execution_count": null,
   "metadata": {},
   "outputs": [],
   "source": []
  },
  {
   "cell_type": "markdown",
   "metadata": {},
   "source": [
    "# Problem 6. (15 bonus points) Linear Regression"
   ]
  },
  {
   "cell_type": "markdown",
   "metadata": {},
   "source": [
    "Download the file `data_linear_regression.csv` and create a DataFrame from this data"
   ]
  },
  {
   "cell_type": "code",
   "execution_count": null,
   "metadata": {},
   "outputs": [],
   "source": []
  },
  {
   "cell_type": "markdown",
   "metadata": {},
   "source": [
    "Using the method head or info you will see that there are 4 columns. x1, x2, x3 are input(independent) variables and y is the response(dependent) variable. We will perform ordinary linear regression on this data based on two guesses."
   ]
  },
  {
   "cell_type": "markdown",
   "metadata": {},
   "source": [
    "**1st model:** $y = \\beta_0 + \\beta_1 x_1 + \\beta_2 x_2 + \\beta_3 x_3$\n",
    "Perform ordinary linear regression (use `ols` in `statsmodels.formula.api` (we imported this as `smf`)) to find the coefficients \n",
    "- Print out the test statistics using the `summary` method."
   ]
  },
  {
   "cell_type": "code",
   "execution_count": null,
   "metadata": {},
   "outputs": [],
   "source": []
  },
  {
   "cell_type": "markdown",
   "metadata": {},
   "source": [
    "Answer the following questions:\n",
    "-  What are the cofficients $\\beta_0, \\beta_1, \\beta_2, \\beta_3 $ (in our model: $y = \\beta_0 + \\beta_1 x_1 + \\beta_2 x_2 + \\beta_3 x_3$)?\n",
    "-  By looking at just the $t$-statistics, which coefficient is most likely to be non-zero?\n",
    "-  What is the R-squared of our first model? Do you think this model fits the data very well?  Why?"
   ]
  },
  {
   "cell_type": "code",
   "execution_count": null,
   "metadata": {},
   "outputs": [],
   "source": []
  },
  {
   "cell_type": "markdown",
   "metadata": {},
   "source": [
    "Let's try to include all interaction terms of the input variables $x_1, x_2, x_3$.\n",
    "What are all the possible interaction terms? (Hint: all the $x_i x_j$). Add your answers to the equations in the cell below with a coefficient $\\beta_i$ in front."
   ]
  },
  {
   "cell_type": "markdown",
   "metadata": {},
   "source": [
    "**2st model:** $y = \\beta_0 + \\beta_1 x_1 + \\beta_2 x_2 + \\beta_3 x_3 $ + ...(add your interaction terms here)..."
   ]
  },
  {
   "cell_type": "markdown",
   "metadata": {},
   "source": [
    "- Perform ordinary linear regression (use `ols` in `statsmodels.formula.api` (we imported this as `smf`)) to find the coefficients \n",
    "- Print out the test statistics using the `summary` method."
   ]
  },
  {
   "cell_type": "code",
   "execution_count": null,
   "metadata": {},
   "outputs": [],
   "source": []
  },
  {
   "cell_type": "markdown",
   "metadata": {},
   "source": [
    "Answer the following questions:\n",
    "-  What are the cofficients $\\beta_0, \\beta_1, ..., \\beta_6 $ in this model?\n",
    "-  Which interaction term has the coefficient that is largest in magnitude(meaning it has the most significant predictive power)?\n",
    "-  What is the R-squared of our second model? Do you think this model fits the data very well?  Why?"
   ]
  },
  {
   "cell_type": "code",
   "execution_count": null,
   "metadata": {},
   "outputs": [],
   "source": []
  }
 ],
 "metadata": {
  "anaconda-cloud": {},
  "interpreter": {
   "hash": "cf2573bddac83979f85d9606fc3a5de29a2cc6372d16a527520bd187c8fddae2"
  },
  "kernelspec": {
   "display_name": "Python 3 (ipykernel)",
   "language": "python",
   "name": "python3"
  },
  "language_info": {
   "codemirror_mode": {
    "name": "ipython",
    "version": 3
   },
   "file_extension": ".py",
   "mimetype": "text/x-python",
   "name": "python",
   "nbconvert_exporter": "python",
   "pygments_lexer": "ipython3",
   "version": "3.9.7"
  },
  "latex_envs": {
   "LaTeX_envs_menu_present": true,
   "autocomplete": true,
   "bibliofile": "biblio.bib",
   "cite_by": "apalike",
   "current_citInitial": 1,
   "eqLabelWithNumbers": true,
   "eqNumInitial": 1,
   "hotkeys": {
    "equation": "Ctrl-E",
    "itemize": "Ctrl-I"
   },
   "labels_anchors": false,
   "latex_user_defs": false,
   "report_style_numbering": false,
   "user_envs_cfg": false
  }
 },
 "nbformat": 4,
 "nbformat_minor": 2
}
