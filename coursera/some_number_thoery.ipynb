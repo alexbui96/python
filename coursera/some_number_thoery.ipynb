{
 "cells": [
  {
   "cell_type": "markdown",
   "metadata": {
    "deletable": false,
    "editable": false,
    "nbgrader": {
     "cell_type": "markdown",
     "checksum": "457aabde68b6016bb326d2ba4b9ec0e8",
     "grade": false,
     "grade_id": "cell-37b1bbf6f43609e8",
     "locked": true,
     "schema_version": 3,
     "solution": false,
     "task": false
    }
   },
   "source": [
    "some interesting number theory as well."
   ]
  },
  {
   "cell_type": "code",
   "execution_count": 18,
   "metadata": {
    "deletable": false,
    "name": "multiply",
    "nbgrader": {
     "cell_type": "code",
     "checksum": "f448e0dd28c5681b2c68908f20a2f348",
     "grade": false,
     "grade_id": "getFactors",
     "locked": false,
     "schema_version": 3,
     "solution": true,
     "task": false
    }
   },
   "outputs": [],
   "source": [
    "def getFactors(x):\n",
    "    \"\"\"Returns a list of factors of the given number x.\n",
    "    Basically, finds the numbers between 1 and the given integer that divide the number evenly.\n",
    "\n",
    "    For example:\n",
    "    - If we call getFactors(2), we'll get [1, 2] in return\n",
    "    - If we call getFactors(12), we'll get [1, 2, 3, 4, 6, 12] in return\n",
    "    \"\"\"\n",
    "    \n",
    "    # your code here\n",
    "    factors = []\n",
    "    \n",
    "    for i in range(1, x+1):\n",
    "        if (i > x/2):\n",
    "            factors.append(x)\n",
    "            break\n",
    "        if (x % i == 0):\n",
    "            factors.append(i)\n",
    "        \n",
    "    return(factors)"
   ]
  },
  {
   "cell_type": "code",
   "execution_count": 19,
   "metadata": {
    "deletable": false,
    "nbgrader": {
     "cell_type": "code",
     "checksum": "ef31858ea07ff02a6b061b8a4205b421",
     "grade": false,
     "grade_id": "isPrime",
     "locked": false,
     "schema_version": 3,
     "solution": true,
     "task": false
    }
   },
   "outputs": [],
   "source": [
    "def isPrime(x):\n",
    "    \"\"\"Returns whether or not the given number x is prime.\n",
    "\n",
    "    A prime number is a natural number greater than 1 that cannot be formed\n",
    "    by multiplying two smaller natural numbers.\n",
    "\n",
    "    For example:\n",
    "    - Calling isPrime(11) will return True\n",
    "    - Calling isPrime(71) will return True\n",
    "    - Calling isPrime(12) will return False\n",
    "    - Calling isPrime(76) will return False\n",
    "    \"\"\"\n",
    "    \n",
    "    # your code here\n",
    "    return(len(getFactors(x)) == 2)\n",
    "    "
   ]
  },
  {
   "cell_type": "code",
   "execution_count": 20,
   "metadata": {
    "deletable": false,
    "nbgrader": {
     "cell_type": "code",
     "checksum": "061e4bb47729ed3fbe7c95cb75066776",
     "grade": false,
     "grade_id": "isComposite",
     "locked": false,
     "schema_version": 3,
     "solution": true,
     "task": false
    }
   },
   "outputs": [],
   "source": [
    "def isComposite(x):\n",
    "    \"\"\"Returns whether or not the given number x is composite.\n",
    "\n",
    "    A composite number has more than 2 factors.\n",
    "    A natural number greater than 1 that is not prime is called a composite number.\n",
    "    Note, the number 1 is neither prime nor composite.\n",
    "\n",
    "    For example:\n",
    "    - Calling isComposite(9) will return True\n",
    "    - Calling isComposite(22) will return True\n",
    "    - Calling isComposite(3) will return False\n",
    "    - Calling isComposite(41) will return False\n",
    "    \"\"\"\n",
    "    \n",
    "    # your code here\n",
    "    \n",
    "    return(not(len(getFactors(x)) <= 2))\n",
    "    "
   ]
  },
  {
   "cell_type": "code",
   "execution_count": 21,
   "metadata": {
    "deletable": false,
    "nbgrader": {
     "cell_type": "code",
     "checksum": "c27d5f05992c8a87878911faadda5245",
     "grade": false,
     "grade_id": "isPerfect",
     "locked": false,
     "schema_version": 3,
     "solution": true,
     "task": false
    }
   },
   "outputs": [],
   "source": [
    "def isPerfect(x):\n",
    "    \"\"\"Returns whether or not the given number x is perfect.\n",
    "\n",
    "    A number is said to be perfect if it is equal to the sum of all its\n",
    "    factors (for obvious reasons the list of factors being considered does\n",
    "    not include the number itself).\n",
    "\n",
    "    Example: 6 = 3 + 2 + 1, hence 6 is perfect.\n",
    "    Example: 28 is another example since 1 + 2 + 4 + 7 + 14 is 28.\n",
    "    Note, the number 1 is not a perfect number.\n",
    "    \"\"\"\n",
    "    \n",
    "    if (x == 1):\n",
    "        return False\n",
    "\n",
    "    total = 0\n",
    "\n",
    "    for num in getFactors(x):\n",
    "        total += num\n",
    "    \n",
    "    return (total == 2*x)"
   ]
  },
  {
   "cell_type": "code",
   "execution_count": 22,
   "metadata": {
    "deletable": false,
    "nbgrader": {
     "cell_type": "code",
     "checksum": "02821c80db344fbf3b377fd48ac98388",
     "grade": false,
     "grade_id": "isAbundant",
     "locked": false,
     "schema_version": 3,
     "solution": true,
     "task": false
    }
   },
   "outputs": [],
   "source": [
    "def isAbundant(x):\n",
    "    \"\"\"Returns whether or not the given number x is abundant.\n",
    "\n",
    "    A number is considered to be abundant if the sum of its factors\n",
    "    (aside from the number) is greater than the number itself.\n",
    "\n",
    "    Example: 12 is abundant since 1+2+3+4+6 = 16 > 12.\n",
    "    However, a number like 15, where the sum of the factors.\n",
    "    is 1 + 3 + 5 = 9 is not abundant.\n",
    "    \"\"\"\n",
    "    \n",
    "    # your code here\n",
    "    total = 0\n",
    "    \n",
    "    for num in getFactors(x):\n",
    "        total += num\n",
    "    \n",
    "    return (total > 2*x)"
   ]
  },
  {
   "cell_type": "code",
   "execution_count": 23,
   "metadata": {
    "deletable": false,
    "editable": false,
    "nbgrader": {
     "cell_type": "code",
     "checksum": "f98aa7aa79925b7d34a226c68c5f2029",
     "grade": true,
     "grade_id": "test_isAbundant",
     "locked": true,
     "points": 1,
     "schema_version": 3,
     "solution": false,
     "task": false
    }
   },
   "outputs": [],
   "source": [
    "abundant_numbers = [12, 18, 20, 24, 30, 36, 40, 42, 48,\n",
    "    54, 56, 60, 66, 70, 72, 78, 80, 84,\n",
    "    88, 90, 96, 100, 102, 104, 108, 112,\n",
    "    114, 120]\n",
    "for i in range(len(abundant_numbers)):\n",
    "    \n",
    "    isAbundant(abundant_numbers[i])"
   ]
  },
  {
   "cell_type": "code",
   "execution_count": 24,
   "metadata": {
    "deletable": false,
    "nbgrader": {
     "cell_type": "code",
     "checksum": "04c1b43a7918431680f744821d214df3",
     "grade": false,
     "grade_id": "isTriangular",
     "locked": false,
     "schema_version": 3,
     "solution": true,
     "task": false
    }
   },
   "outputs": [],
   "source": [
    "def isTriangular(x):\n",
    "    \"\"\"Returns whether or not a given number x is triangular.\n",
    "    \n",
    "    The triangular number Tn is a number that can be represented in the form of a triangular \n",
    "    grid of points where the first row contains a single element and each subsequent row contains \n",
    "    one more element than the previous one.\n",
    "    \n",
    "    We can just use the fact that the nth triangular number can be found by using a formula: Tn = n(n + 1) / 2.\n",
    "    \n",
    "    Example: 3 is triangular since 3 = 2(3) / 2\n",
    "    3 --> 2nd position: (2 * 3 / 2)\n",
    "    \n",
    "    Example: 15 is triangular since 15 = 5(6) / 2\n",
    "    15 --> 5th position: (5 * 6 / 2)\n",
    "    \"\"\"\n",
    "    bool = False\n",
    "    for n1 in getFactors(x*2):\n",
    "        if n1*(n1 + 1) == x*2:\n",
    "            bool = True\n",
    "            break\n",
    "            \n",
    "    return(bool)\n",
    "            "
   ]
  },
  {
   "cell_type": "code",
   "execution_count": 25,
   "metadata": {
    "deletable": false,
    "nbgrader": {
     "cell_type": "code",
     "checksum": "762634614c7891cf1f82bd0763d6573c",
     "grade": false,
     "grade_id": "isNarcissistic",
     "locked": false,
     "schema_version": 3,
     "solution": true,
     "task": false
    }
   },
   "outputs": [],
   "source": [
    "def isNarcissistic(x):\n",
    "    \"\"\"Returns whether or not a given number is Narcissistic.\n",
    "\n",
    "    A positive integer is called a narcissistic number if it\n",
    "    is equal to the sum of its own digits each raised to the\n",
    "    power of the number of digits.\n",
    "\n",
    "    Example: 153 is narcissistic because 1^3 + 5^3 + 3^3 = 1 + 125 + 27 = 153.\n",
    "    Note that by this definition all single digit numbers are narcissistic.\n",
    "    \"\"\"\n",
    "    \n",
    "    # your code here\n",
    "    str_x = str(x)\n",
    "    pow = len(str_x)\n",
    "    total = 0\n",
    "    \n",
    "    for num in str_x:\n",
    "        num = int(num)\n",
    "        total += num**pow\n",
    "        \n",
    "    return(total == x)"
   ]
  },
  {
   "cell_type": "code",
   "execution_count": 26,
   "metadata": {
    "deletable": false,
    "editable": false,
    "nbgrader": {
     "cell_type": "code",
     "checksum": "7142bdb01c5fd0abd646ed14f0c283a3",
     "grade": true,
     "grade_id": "main",
     "locked": true,
     "points": 0,
     "schema_version": 3,
     "solution": false,
     "task": false
    }
   },
   "outputs": [],
   "source": [
    "def main():\n",
    "\n",
    "    playing = True\n",
    "    while playing == True:\n",
    "\n",
    "        num_input = input('Give me a number from 1 to 10000.  Type -1 to exit. ')\n",
    "\n",
    "        try:\n",
    "            num = int(num_input)\n",
    "\n",
    "            if (num == -1):\n",
    "                playing = False\n",
    "                continue\n",
    "\n",
    "            if (num <= 0 or num > 10000):\n",
    "                continue\n",
    "\n",
    "            factors = getFactors(num)\n",
    "            print(\"The factors of\", num, \"are\", factors)\n",
    "\n",
    "            if isPrime(num):\n",
    "                print(str(num) + ' is prime')\n",
    "            if isComposite(num):\n",
    "                print(str(num) + ' is composite')\n",
    "            if isPerfect(num):\n",
    "                print(str(num) + ' is perfect')\n",
    "            if isAbundant(num):\n",
    "                print(str(num) + ' is abundant')\n",
    "            if isTriangular(num):\n",
    "                print(str(num) + ' is triangular')\n",
    "            if isNarcissistic(num):\n",
    "                print(str(num) + ' is narcissistic')\n",
    "\n",
    "        except ValueError:\n",
    "            print('Sorry, the input is not an int.  Please try again.')\n",
    "            \n",
    "# main function\n",
    "if __name__ == '__main__':\n",
    "    main()"
   ]
  }
 ],
 "metadata": {
  "interpreter": {
   "hash": "70bd44d7b8936ce0ef5a810747a06bf791e34f7a77e3db5d7c719fb02184a935"
  },
  "kernelspec": {
   "display_name": "Python 3.10.4 64-bit",
   "language": "python",
   "name": "python3"
  },
  "language_info": {
   "codemirror_mode": {
    "name": "ipython",
    "version": 3
   },
   "file_extension": ".py",
   "mimetype": "text/x-python",
   "name": "python",
   "nbconvert_exporter": "python",
   "pygments_lexer": "ipython3",
   "version": "3.10.4"
  }
 },
 "nbformat": 4,
 "nbformat_minor": 2
}
