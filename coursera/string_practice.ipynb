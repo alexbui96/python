{
 "cells": [
  {
   "cell_type": "markdown",
   "metadata": {
    "deletable": false,
    "editable": false,
    "nbgrader": {
     "cell_type": "markdown",
     "checksum": "bba802c376893d7e912e9a3376849398",
     "grade": false,
     "grade_id": "cell-37b1bbf6f43609e8",
     "locked": true,
     "schema_version": 3,
     "solution": false,
     "task": false
    }
   },
   "source": [
    "String Practices"
   ]
  },
  {
   "cell_type": "code",
   "execution_count": 10,
   "metadata": {
    "deletable": false,
    "name": "multiply",
    "nbgrader": {
     "cell_type": "code",
     "checksum": "e0e7763f8a85e95b4edf1ee41f6f1bac",
     "grade": false,
     "grade_id": "concatenate",
     "locked": false,
     "schema_version": 3,
     "solution": true,
     "task": false
    }
   },
   "outputs": [],
   "source": [
    "def concatenate(strings):\n",
    "    \"\"\"\n",
    "    - If we call concatenate([\"a\",\"b\",\"c\"]), we'll get \"abc\" in return\n",
    "    - If we call concatenate([]), we'll get \"\" in return\n",
    "    \"\"\"\n",
    "    \n",
    "    return(\"\".join(strings))"
   ]
  },
  {
   "cell_type": "code",
   "execution_count": 30,
   "metadata": {
    "deletable": false,
    "nbgrader": {
     "cell_type": "code",
     "checksum": "0870b29f2016f1e007592b0c8966538f",
     "grade": false,
     "grade_id": "all_but_last",
     "locked": false,
     "schema_version": 3,
     "solution": true,
     "task": false
    }
   },
   "outputs": [],
   "source": [
    "def all_but_last(seq):\n",
    "    \"\"\"\n",
    "    - If we call all_but_last([1,2,3,4,5]), we'll get [1,2,3,4] in return\n",
    "    - If we call all_but_last([\"a\",\"d\",1,3,4,None]), we'll get [\"a\",\"d\",1,3,4] in return\n",
    "    - If we call all_but_last([]), we'll get None in return\n",
    "    \"\"\"\n",
    "\n",
    "    if seq == []:\n",
    "        return None\n",
    "    \n",
    "    else:\n",
    "        seq.pop()\n",
    "        return (seq)"
   ]
  },
  {
   "cell_type": "code",
   "execution_count": 32,
   "metadata": {
    "deletable": false,
    "nbgrader": {
     "cell_type": "code",
     "checksum": "91077995ab1c6f14efa17a9eec9675c2",
     "grade": false,
     "grade_id": "remove_duplicates",
     "locked": false,
     "schema_version": 3,
     "solution": true,
     "task": false
    }
   },
   "outputs": [],
   "source": [
    "def remove_duplicates(lst):\n",
    "    \"\"\"\n",
    "    - If we call remove_duplicates([1,2,1,3,4]), we'll get [1,2,3,4] in return\n",
    "    - If we call remove_duplicates([]), we'll get [] in return\n",
    "    \"\"\"\n",
    "\n",
    "    return (set(lst))"
   ]
  },
  {
   "cell_type": "code",
   "execution_count": 64,
   "metadata": {
    "deletable": false,
    "nbgrader": {
     "cell_type": "code",
     "checksum": "255701202f3074ab3e4932a5da05e2c1",
     "grade": false,
     "grade_id": "reverse_word",
     "locked": false,
     "schema_version": 3,
     "solution": true,
     "task": false
    }
   },
   "outputs": [],
   "source": [
    "def reverse_word(word):\n",
    "    \"\"\"\n",
    "    - If we call reverse_word(\"abcde\"), we'll get \"edcba\" in return\n",
    "    - If we call reverse_word(\"a b c d e\"), we'll get \"e d c b a\" in return\n",
    "    - If we call reverse_word(\"a  b\"), we'll get \"b  a\" in return\n",
    "    - If we call reverse_word(\"\"), we'll get \"\" in return\n",
    "    \"\"\"\n",
    "\n",
    "    lst = list(word)\n",
    "    temp = []\n",
    "    \n",
    "    for i in range((len(word) - 1), -1, -1):\n",
    "        temp.append(lst[i])\n",
    "    \n",
    "    return(concatenate(temp))\n",
    "    "
   ]
  },
  {
   "cell_type": "code",
   "execution_count": 62,
   "metadata": {
    "deletable": false,
    "nbgrader": {
     "cell_type": "code",
     "checksum": "3a99669c674b556d187fe56432dfc572",
     "grade": false,
     "grade_id": "divisors",
     "locked": false,
     "schema_version": 3,
     "solution": true,
     "task": false
    }
   },
   "outputs": [],
   "source": [
    "def divisors(n):\n",
    "    \"\"\"\n",
    "    - If we call divisors(10), we'll get [1,2,5,10] in return\n",
    "    - If we call divisors(1), we'll get [1] in return\n",
    "    \"\"\"\n",
    "    \n",
    "    lst = []\n",
    "    \n",
    "    for i in range (1, round(n/2 + 2)):\n",
    "        \n",
    "        if (i > n/2):\n",
    "            lst.append(n)\n",
    "            break\n",
    "        elif (n % i == 0):\n",
    "            lst.append(i)\n",
    "        else:\n",
    "            continue\n",
    "            \n",
    "    return(lst)"
   ]
  },
  {
   "cell_type": "code",
   "execution_count": 78,
   "metadata": {
    "deletable": false,
    "nbgrader": {
     "cell_type": "code",
     "checksum": "748cdfabc5cd8e9327cb62dc4eeadd49",
     "grade": false,
     "grade_id": "capitalize_or_join",
     "locked": false,
     "schema_version": 3,
     "solution": true,
     "task": false
    }
   },
   "outputs": [],
   "source": [
    "def capitalize_or_join_words(sentence):\n",
    "    \"\"\"\n",
    "    - If we call capitalize_or_join_words(\"*i love python\"), we'll get \"I LovE PythoN\" in return.\n",
    "    - If we call capitalize_or_join_words(\"i love python\"), we'll get \"i,love,python\" in return.\n",
    "    - If we call capitalize_or_join_words(\"i love    python  \"), we'll get \"i,love,python\" in return.\n",
    "    \"\"\"\n",
    "\n",
    "    if (sentence.find('*') == 0):\n",
    "        \n",
    "        sentence = sentence.replace('*','')\n",
    "        lst = sentence.split()\n",
    "        \n",
    "        for i in range(len(lst)):\n",
    "            temp = list(lst[i])\n",
    "            temp[0] = temp[0].capitalize()\n",
    "            temp[len(temp) - 1] = temp[len(temp) - 1].capitalize()\n",
    "            lst[i] = concatenate(temp)\n",
    "            \n",
    "        return(\" \".join(lst))\n",
    "    \n",
    "    else:\n",
    "        \n",
    "        lst = sentence.split()\n",
    "        return(\",\".join(lst))"
   ]
  },
  {
   "cell_type": "code",
   "execution_count": 120,
   "metadata": {
    "deletable": false,
    "nbgrader": {
     "cell_type": "code",
     "checksum": "b934daf8bd77c0cff4f44dffc20315e9",
     "grade": false,
     "grade_id": "move_zero",
     "locked": false,
     "schema_version": 3,
     "solution": true,
     "task": false
    }
   },
   "outputs": [],
   "source": [
    "def move_zero(lst):\n",
    "    \"\"\"\n",
    "    - After calling move_zero([0,1,0,2,0,3,0,4]), the given list should be [1,2,3,4,0,0,0,0] and the function returns nothing\n",
    "    - After calling move_zero([0,1,2,0,1]), the given list should be [1,2,1,0,0] and the function returns nothing\n",
    "    - After calling move_zero([1,2,3,4,5,6,7,8]), the given list should be [1,2,3,4,5,6,7,8] and the function returns nothing\n",
    "    - After calling move_zero([]), the given list should be [] and the function returns nothing\n",
    "    \"\"\"\n",
    " \n",
    "    lst_zero = []\n",
    "    lst_num = []\n",
    "\n",
    "    for i in lst:\n",
    "        if (i == 0):\n",
    "            lst_zero.append(i)\n",
    "        else:\n",
    "            lst_num.append(i)\n",
    "\n",
    "    temp = lst_num + lst_zero\n",
    "\n",
    "    for i in range(len(temp)):\n",
    "        lst[i] = temp[i]"
   ]
  }
 ],
 "metadata": {
  "interpreter": {
   "hash": "70bd44d7b8936ce0ef5a810747a06bf791e34f7a77e3db5d7c719fb02184a935"
  },
  "kernelspec": {
   "display_name": "Python 3.10.4 64-bit",
   "language": "python",
   "name": "python3"
  },
  "language_info": {
   "codemirror_mode": {
    "name": "ipython",
    "version": 3
   },
   "file_extension": ".py",
   "mimetype": "text/x-python",
   "name": "python",
   "nbconvert_exporter": "python",
   "pygments_lexer": "ipython3",
   "version": "3.10.4"
  }
 },
 "nbformat": 4,
 "nbformat_minor": 2
}
