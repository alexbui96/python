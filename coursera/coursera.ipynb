{
 "cells": [
  {
   "cell_type": "code",
   "execution_count": 5,
   "metadata": {},
   "outputs": [
    {
     "name": "stdout",
     "output_type": "stream",
     "text": [
      "Hello World!\n"
     ]
    }
   ],
   "source": [
    "print(\"Hello World!\")"
   ]
  },
  {
   "cell_type": "code",
   "execution_count": 5,
   "metadata": {},
   "outputs": [
    {
     "name": "stdout",
     "output_type": "stream",
     "text": [
      "Hello Alex\n"
     ]
    }
   ],
   "source": [
    "name = input(\"What is your name?\")\n",
    "print(\"Hello\", name)"
   ]
  },
  {
   "cell_type": "code",
   "execution_count": 9,
   "metadata": {},
   "outputs": [
    {
     "name": "stdout",
     "output_type": "stream",
     "text": [
      "Alex loves Toan\n"
     ]
    }
   ],
   "source": [
    "name1 = input(\"What is your name?\")\n",
    "name2 = input(\"What is your lover\\'s name?\")\n",
    "print(\"{} loves {}\".format(name1, name2))"
   ]
  },
  {
   "cell_type": "code",
   "execution_count": 10,
   "metadata": {},
   "outputs": [
    {
     "name": "stdout",
     "output_type": "stream",
     "text": [
      "The bill is: $200.0\n",
      "The sale tax (8.625%) is: $17.25\n",
      "The tip amount (15.0%) is: $30.0\n",
      "The total bill is: $247.25\n"
     ]
    }
   ],
   "source": [
    "bill = float(input(\"How much is the subtotal?\"))\n",
    "tax = float(input(\"What is the sales tax? (in percentage)\"))\n",
    "tip = float(input(\"How much is the tip? (in percentage)\"))\n",
    "\n",
    "tax_amount = bill * (tax/100)\n",
    "tip_amount = bill * (tip/100)\n",
    "total_bill = round(bill + tax_amount + tip_amount, 2)\n",
    "\n",
    "print(\"The bill is: ${}\\nThe sale tax ({}%) is: ${}\\nThe tip amount ({}%) is: ${}\\nThe total bill is: ${}\".format(bill, tax, tax_amount, tip, tip_amount, total_bill))\n",
    "\n"
   ]
  },
  {
   "cell_type": "code",
   "execution_count": 13,
   "metadata": {},
   "outputs": [
    {
     "name": "stdout",
     "output_type": "stream",
     "text": [
      "F\n"
     ]
    }
   ],
   "source": [
    "grade = int(input(\"What is the grade?\"))\n",
    "letter_grade = str\n",
    "\n",
    "if (grade >= 90): \n",
    "    letter_grade = \"A\"\n",
    "elif (grade >= 80): \n",
    "    letter_grade = \"B\"\n",
    "elif (grade >= 70 ): \n",
    "    letter_grade = \"C\"\n",
    "elif (grade >= 60 ): \n",
    "    letter_grade = \"D\"\n",
    "else: \n",
    "    letter_grade =\"F\"\n",
    "\n",
    "print(letter_grade)\n"
   ]
  },
  {
   "cell_type": "code",
   "execution_count": 22,
   "metadata": {},
   "outputs": [
    {
     "name": "stdout",
     "output_type": "stream",
     "text": [
      "b is either invalid input or negative integer!\n"
     ]
    }
   ],
   "source": [
    "number = input(\"Enter an positive integer: \")\n",
    "\n",
    "if(number.isnumeric()): \n",
    "    number = int(number)\n",
    "    if (number > 20): \n",
    "        print(\"Your input is: {} > 20\".format(number))\n",
    "    elif (number > 10): \n",
    "        print(\"Your input is: {} > 10\".format(number))\n",
    "    elif (number > 0): \n",
    "        print(\"Your input is: {} > 0\".format(number))\n",
    "else: \n",
    "    print(\"{} is either invalid input or negative integer!\".format(number))"
   ]
  },
  {
   "cell_type": "code",
   "execution_count": 24,
   "metadata": {},
   "outputs": [
    {
     "name": "stdout",
     "output_type": "stream",
     "text": [
      "Your input is: -5 < 0\n"
     ]
    }
   ],
   "source": [
    "number = input(\"Enter an positive integer: \")\n",
    "\n",
    "try: \n",
    "    number = int(number)\n",
    "    if (number > 20): \n",
    "        print(\"Your input is: {} > 20\".format(number))\n",
    "    elif (number > 10): \n",
    "        print(\"Your input is: {} > 10\".format(number))\n",
    "    elif (number > 0): \n",
    "        print(\"Your input is: {} > 0\".format(number))\n",
    "    elif (number < 0): \n",
    "        print(\"Your input is: {} < 0\".format(number))\n",
    "    elif (number == 0): \n",
    "        print(\"Your input is: {} = 0\".format(number))\n",
    "\n",
    "except ValueError as e: \n",
    "    print(\"{} is invalid input!\".format(number))"
   ]
  },
  {
   "cell_type": "code",
   "execution_count": 25,
   "metadata": {},
   "outputs": [
    {
     "name": "stdout",
     "output_type": "stream",
     "text": [
      "A\n"
     ]
    }
   ],
   "source": [
    "# create a function\n",
    "def letter_grade_calculation():\n",
    "\n",
    "    grade = int(input(\"What is the grade?\"))\n",
    "\n",
    "    if (grade >= 90): \n",
    "        letter_grade = \"A\"\n",
    "    elif (grade >= 80): \n",
    "        letter_grade = \"B\"\n",
    "    elif (grade >= 70 ): \n",
    "        letter_grade = \"C\"\n",
    "    elif (grade >= 60 ): \n",
    "        letter_grade = \"D\"\n",
    "    else: \n",
    "        letter_grade =\"F\"\n",
    "\n",
    "    print(letter_grade)\n",
    "\n",
    "letter_grade_calculation()"
   ]
  },
  {
   "cell_type": "code",
   "execution_count": 29,
   "metadata": {},
   "outputs": [
    {
     "name": "stdout",
     "output_type": "stream",
     "text": [
      "A\n"
     ]
    }
   ],
   "source": [
    "def letter_grade_calculation(grade):\n",
    "\n",
    "    if (grade >= 90): \n",
    "        letter_grade = \"A\"\n",
    "    elif (grade >= 80): \n",
    "        letter_grade = \"B\"\n",
    "    elif (grade >= 70 ): \n",
    "        letter_grade = \"C\"\n",
    "    elif (grade >= 60 ): \n",
    "        letter_grade = \"D\"\n",
    "    else: \n",
    "        letter_grade =\"F\"\n",
    "\n",
    "    print(letter_grade)\n",
    "\n",
    "letter_grade_calculation(90)"
   ]
  },
  {
   "cell_type": "code",
   "execution_count": 31,
   "metadata": {},
   "outputs": [
    {
     "name": "stdout",
     "output_type": "stream",
     "text": [
      "A\n"
     ]
    }
   ],
   "source": [
    "grade = int(input(\"What is the grade?\"))\n",
    "\n",
    "def letter_grade_calculation(grade):\n",
    "\n",
    "    if (grade >= 90): \n",
    "        letter_grade = \"A\"\n",
    "    elif (grade >= 80): \n",
    "        letter_grade = \"B\"\n",
    "    elif (grade >= 70 ): \n",
    "        letter_grade = \"C\"\n",
    "    elif (grade >= 60 ): \n",
    "        letter_grade = \"D\"\n",
    "    else: \n",
    "        letter_grade =\"F\"\n",
    "\n",
    "    print(letter_grade)\n",
    "\n",
    "letter_grade_calculation(grade)"
   ]
  },
  {
   "cell_type": "code",
   "execution_count": 1,
   "metadata": {},
   "outputs": [
    {
     "name": "stdout",
     "output_type": "stream",
     "text": [
      "The given dog age 9 is 64.0 in human years.\n"
     ]
    }
   ],
   "source": [
    "def dog_age_calculator():\n",
    "    \n",
    "    # Get dog age\n",
    "    age = input(\"Input dog years: \")\n",
    "\n",
    "    try:\n",
    "        # Cast to float\n",
    "        d_age = float(age)\n",
    "        # If user enters negative number, print message\n",
    "        if(d_age < 0): \n",
    "            print(\"Age cannot be a negative number\", age)\n",
    "        # Otherwise, calculate dog's age in human years\n",
    "        elif(d_age > 5): \n",
    "            h_age = 36 + (d_age - 5) * 7\n",
    "        elif(d_age > 4): \n",
    "            h_age = d_age * 7.2\n",
    "        elif(d_age > 3): \n",
    "            h_age = d_age * 8\n",
    "        elif(d_age > 2): \n",
    "            h_age = d_age * 9.3\n",
    "        elif(d_age > 1): \n",
    "            h_age = d_age * 12\n",
    "        elif(d_age >= 0): \n",
    "            h_age = d_age * 15\n",
    "        print(\"The given dog age\", age,\"is\", round(h_age,2), \"in human years.\")\n",
    "    except:\n",
    "        print(age, \"is an invalid age.\")\n",
    "    \n",
    "dog_age_calculator()"
   ]
  },
  {
   "cell_type": "code",
   "execution_count": 7,
   "metadata": {},
   "outputs": [
    {
     "name": "stdout",
     "output_type": "stream",
     "text": [
      "There are 7 even numbers:\n",
      "\n",
      "[2, 4, 32, 4, 4, 6, 6]\n"
     ]
    }
   ],
   "source": [
    "numbers = input(\"Enter positive integer numbers separated by space: \")\n",
    "\n",
    "#slip input string by space to a list\n",
    "numbers = numbers.split()\n",
    "\n",
    "#convert each element in the list to int\n",
    "for i in range(len(numbers)):\n",
    "    numbers[i] = int(numbers[i])\n",
    "\n",
    "even_numbers = []\n",
    "even_count = 0\n",
    "\n",
    "for num in numbers:\n",
    "    if(num % 2 == 0):\n",
    "        even_numbers.append(num)\n",
    "        even_count += 1\n",
    "\n",
    "if(even_count == 0): \n",
    "    print(\"There is no even number\")\n",
    "elif (even_count == 1): \n",
    "    print(\"There is {} even number:\\n\".format(even_count))\n",
    "else: \n",
    "    print(\"There are {} even numbers:\\n\".format(even_count))\n",
    "\n",
    "print(even_numbers)"
   ]
  },
  {
   "cell_type": "code",
   "execution_count": 9,
   "metadata": {},
   "outputs": [
    {
     "name": "stdout",
     "output_type": "stream",
     "text": [
      "The minimum number is -1000.45\n"
     ]
    }
   ],
   "source": [
    "numbers = input(\"Enter numbers separated by space: \")\n",
    "\n",
    "#slip input string by space to a list\n",
    "numbers = numbers.split()\n",
    "\n",
    "#convert each element in the list to float\n",
    "for i in range(len(numbers)):\n",
    "    numbers[i] = float(numbers[i])\n",
    "\n",
    "min = numbers[0]\n",
    "\n",
    "for num in numbers:\n",
    "    if (min > num):\n",
    "        min = num\n",
    "\n",
    "print (\"The minimum number is {}\".format(min))"
   ]
  },
  {
   "cell_type": "code",
   "execution_count": 10,
   "metadata": {},
   "outputs": [
    {
     "name": "stdout",
     "output_type": "stream",
     "text": [
      "Your password is sucessfully changed!\n"
     ]
    }
   ],
   "source": [
    "pw_1 = input(\"Please enter your new password: \")\n",
    "pw_2 = input(\"Please re-enter your new password: \")\n",
    "\n",
    "while pw_2 != pw_1:\n",
    "    pw_2 = input(\"Please re-enter your new password: \")\n",
    "\n",
    "print(\"Your password is sucessfully changed!\")"
   ]
  },
  {
   "cell_type": "code",
   "execution_count": 16,
   "metadata": {},
   "outputs": [
    {
     "name": "stdout",
     "output_type": "stream",
     "text": [
      "The entered number(s): [4.0, 5.0, 3.0, 2.0]\n",
      "\n",
      "The average is 3.5\n"
     ]
    }
   ],
   "source": [
    "num_list = []\n",
    "stop = False\n",
    "total = 0\n",
    "\n",
    "while(stop == False):\n",
    "    num = float(input(\"Enter number: \"))\n",
    "    if(num == -1):\n",
    "        stop = True\n",
    "    else:\n",
    "        num_list.append(num)\n",
    "\n",
    "for num in num_list:\n",
    "    total += num\n",
    "\n",
    "average = total / len(num_list)\n",
    "\n",
    "print(\"The entered number(s): {}\\n\".format(num_list))\n",
    "print(\"The average is {}\".format(average))"
   ]
  },
  {
   "cell_type": "code",
   "execution_count": 18,
   "metadata": {},
   "outputs": [
    {
     "name": "stdout",
     "output_type": "stream",
     "text": [
      "etsap\n"
     ]
    }
   ],
   "source": [
    "#Word reversal\n",
    "\n",
    "word = input(\"Enter a word: \")\n",
    "rev = ''\n",
    "\n",
    "for i in range((len(word) -1), -1, -1):\n",
    "    rev += word[i]\n",
    "\n",
    "print(rev) \n"
   ]
  },
  {
   "cell_type": "code",
   "execution_count": 27,
   "metadata": {},
   "outputs": [
    {
     "data": {
      "text/plain": [
       "16"
      ]
     },
     "execution_count": 27,
     "metadata": {},
     "output_type": "execute_result"
    }
   ],
   "source": [
    "#square function\n",
    "\n",
    "def square(n):\n",
    "    return(n*n)\n",
    "\n",
    "square(4)"
   ]
  },
  {
   "cell_type": "code",
   "execution_count": 28,
   "metadata": {},
   "outputs": [
    {
     "data": {
      "text/plain": [
       "'False'"
      ]
     },
     "execution_count": 28,
     "metadata": {},
     "output_type": "execute_result"
    }
   ],
   "source": [
    "# great than function\n",
    "\n",
    "def greater(a, b):\n",
    "    return(str(a > b))\n",
    "\n",
    "greater(2,3)"
   ]
  },
  {
   "cell_type": "code",
   "execution_count": 33,
   "metadata": {},
   "outputs": [
    {
     "data": {
      "text/plain": [
       "[1, 2, 5, 10]"
      ]
     },
     "execution_count": 33,
     "metadata": {},
     "output_type": "execute_result"
    }
   ],
   "source": [
    "def get_factor(n):\n",
    "    list = []\n",
    "    for num in range (1, n +1):\n",
    "        if (n % num == 0):\n",
    "            list.append(num)\n",
    "    \n",
    "    return(list)\n",
    "\n",
    "get_factor(10)"
   ]
  },
  {
   "cell_type": "code",
   "execution_count": 35,
   "metadata": {},
   "outputs": [
    {
     "data": {
      "text/plain": [
       "[2, 3, 5, 4]"
      ]
     },
     "execution_count": 35,
     "metadata": {},
     "output_type": "execute_result"
    }
   ],
   "source": [
    "def unique_list (list):\n",
    "\n",
    "    unique = []\n",
    "\n",
    "    for i in range(len(list)):\n",
    "        if(list[i] in unique) == False:\n",
    "            unique.append(list[i])\n",
    "    \n",
    "    return(unique)\n",
    "\n",
    "unique_list([2, 3, 5, 2, 4, 5])"
   ]
  },
  {
   "cell_type": "code",
   "execution_count": 58,
   "metadata": {},
   "outputs": [
    {
     "name": "stdout",
     "output_type": "stream",
     "text": [
      "4 vowel(s) in anh yeu em\n",
      "\n",
      "3 word(s) in anh yeu em\n"
     ]
    }
   ],
   "source": [
    "def vowel_counter(text):\n",
    "    v_count = 0\n",
    "\n",
    "    for char in text:\n",
    "\n",
    "        if char in \"aeiou\":\n",
    "\n",
    "            v_count += 1\n",
    "    \n",
    "    return(v_count)\n",
    "\n",
    "def word_counter(sentence):\n",
    "    return(len(sentence.split()))\n",
    "\n",
    "def main():\n",
    "    while 1 == 1:\n",
    "        string = input(\"Enter a text: \")\n",
    "        if (string == '-1'):\n",
    "            break\n",
    "        print(\"{} vowel(s) in {}\\n\".format(vowel_counter(string), string))\n",
    "        print(\"{} word(s) in {}\".format(word_counter(string), string))\n",
    "\n",
    "if __name__ == '__main__':\n",
    "    main()\n"
   ]
  },
  {
   "cell_type": "code",
   "execution_count": 60,
   "metadata": {},
   "outputs": [
    {
     "name": "stdout",
     "output_type": "stream",
     "text": [
      "4 vowel(s) in anh yeu em\n",
      "\n",
      "3 word(s) in anh yeu em\n"
     ]
    }
   ],
   "source": [
    "def count_instance_of_string(str1, str2):\n",
    "    i_count = 0\n",
    "    for i in str1:\n",
    "        if i in str2:\n",
    "            i_count += 1\n",
    "    return(i_count)\n",
    "\n",
    "def vowel_counter(text):\n",
    "    return(count_instance_of_string(text, 'aeuoi'))\n",
    "\n",
    "def word_counter(sentence):\n",
    "    return(count_instance_of_string(sentence, ' ') + 1)\n",
    "\n",
    "def main():\n",
    "    while 1 == 1:\n",
    "        string = input(\"Enter a text: \")\n",
    "        if (string == '-1'):\n",
    "            break\n",
    "        print(\"{} vowel(s) in {}\\n\".format(vowel_counter(string), string))\n",
    "        print(\"{} word(s) in {}\".format(word_counter(string), string))\n",
    "\n",
    "if __name__ == '__main__':\n",
    "    main()\n"
   ]
  },
  {
   "cell_type": "code",
   "execution_count": 77,
   "metadata": {},
   "outputs": [
    {
     "data": {
      "text/plain": [
       "int"
      ]
     },
     "execution_count": 77,
     "metadata": {},
     "output_type": "execute_result"
    }
   ],
   "source": []
  },
  {
   "cell_type": "code",
   "execution_count": null,
   "metadata": {},
   "outputs": [],
   "source": []
  }
 ],
 "metadata": {
  "interpreter": {
   "hash": "aee8b7b246df8f9039afb4144a1f6fd8d2ca17a180786b69acc140d282b71a49"
  },
  "kernelspec": {
   "display_name": "Python 3.9.5 64-bit",
   "language": "python",
   "name": "python3"
  },
  "language_info": {
   "codemirror_mode": {
    "name": "ipython",
    "version": 3
   },
   "file_extension": ".py",
   "mimetype": "text/x-python",
   "name": "python",
   "nbconvert_exporter": "python",
   "pygments_lexer": "ipython3",
   "version": "3.9.5"
  },
  "orig_nbformat": 4
 },
 "nbformat": 4,
 "nbformat_minor": 2
}
