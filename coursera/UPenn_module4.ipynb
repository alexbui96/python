{
 "cells": [
  {
   "cell_type": "code",
   "execution_count": 36,
   "metadata": {},
   "outputs": [
    {
     "data": {
      "text/plain": [
       "{'Brandon': 115.5,\n",
       " 'Patrick': 18.9,\n",
       " 'Sarah': 827.43,\n",
       " 'Jack': 45.0,\n",
       " 'James': 128.87}"
      ]
     },
     "execution_count": 36,
     "metadata": {},
     "output_type": "execute_result"
    }
   ],
   "source": [
    "def import_and_create_bank(filename):\n",
    "    \n",
    "    bank = {}\n",
    "        \n",
    "    bank_file = open(filename,'r')\n",
    "    bank_temp = bank_file.readlines()\n",
    "        \n",
    "    for i in bank_temp:\n",
    "        bank_list = i.strip().split(\":\")\n",
    "\n",
    "        if(len(bank_list) <= 1):\n",
    "            continue\n",
    "\n",
    "        name = bank_list[0].strip()\n",
    "        deposit = bank_list[1].strip()\n",
    "\n",
    "        try:\n",
    "            deposit = float(deposit)\n",
    "\n",
    "            bank[name] = bank.get(name, 0) + deposit\n",
    "        \n",
    "        except:\n",
    "            continue\n",
    "        \n",
    "        \n",
    "    bank_file.close()\n",
    "\n",
    "    return bank\n",
    "\n",
    "import_and_create_bank(\"bank.txt\")"
   ]
  },
  {
   "cell_type": "code",
   "execution_count": 21,
   "metadata": {},
   "outputs": [
    {
     "data": {
      "text/plain": [
       "False"
      ]
     },
     "execution_count": 21,
     "metadata": {},
     "output_type": "execute_result"
    }
   ],
   "source": [
    "def valid_pw(username, password):\n",
    "\n",
    "    upper = 0\n",
    "    lower = 0\n",
    "    digit = 0\n",
    "\n",
    "    val = True\n",
    "\n",
    "    if (username == password):\n",
    "        val = False\n",
    "    \n",
    "    if (len(password) < 8):\n",
    "        val = False\n",
    "\n",
    "    for i in password:\n",
    "\n",
    "        if i.isupper():\n",
    "            upper += 1\n",
    "        elif i.islower():\n",
    "            lower += 1\n",
    "        elif i.isdigit():\n",
    "            digit += 1\n",
    "    \n",
    "    if upper == 0:\n",
    "        val = False\n",
    "\n",
    "    if lower == 0:\n",
    "        val = False\n",
    "\n",
    "    if digit == 0:\n",
    "        val = False      \n",
    "    \n",
    "    return val"
   ]
  },
  {
   "cell_type": "code",
   "execution_count": 37,
   "metadata": {},
   "outputs": [
    {
     "data": {
      "text/plain": [
       "({'Brandon': 'brandon123ABC',\n",
       "  'Jack': 'jack123POU',\n",
       "  'James': '100jamesABD',\n",
       "  'Sarah': 'sd896ssfJJH'},\n",
       " {'Brandon': False, 'Jack': False, 'James': False, 'Sarah': False})"
      ]
     },
     "execution_count": 37,
     "metadata": {},
     "output_type": "execute_result"
    }
   ],
   "source": [
    "def import_and_create_accounts(filename):\n",
    "    \n",
    "    user_accounts = {}\n",
    "    log_in = {}\n",
    "        \n",
    "    user_file = open(filename,'r')\n",
    "    user_temp = user_file.readlines()\n",
    "        \n",
    "    for i in user_temp:\n",
    "        user_list = i.strip().split(\"-\")\n",
    "\n",
    "        if(len(user_list) <= 1):\n",
    "            continue\n",
    "\n",
    "        user = user_list[0].strip()\n",
    "        password = user_list[1].strip()\n",
    "\n",
    "        if valid_pw(user, password):\n",
    "            user_accounts[user] = user_accounts.get(user,password)\n",
    "            log_in[user] = log_in.get(user, False)\n",
    "        \n",
    "    user_file.close()\n",
    "\n",
    "    return user_accounts, log_in\n",
    "\n",
    "\n",
    "import_and_create_accounts(\"users.txt\")"
   ]
  },
  {
   "cell_type": "code",
   "execution_count": 32,
   "metadata": {},
   "outputs": [],
   "source": [
    "def signup(user_accounts, log_in, username, password):\n",
    "    \n",
    "    result = valid_pw(username, password)\n",
    "    \n",
    "    if username in user_accounts:\n",
    "        result = False\n",
    "    \n",
    "    if result:\n",
    "        user_accounts[username] = user_accounts.get(username, password)\n",
    "        log_in[username] = log_in.get(username, False)\n",
    "\n",
    "    return result"
   ]
  },
  {
   "cell_type": "code",
   "execution_count": 34,
   "metadata": {},
   "outputs": [],
   "source": [
    "def login(user_accounts, log_in, username, password):\n",
    "\n",
    "    result = False\n",
    "\n",
    "    if username in user_accounts:\n",
    "        result =True\n",
    "    \n",
    "    if result:\n",
    "        if password != user_accounts[username]:\n",
    "            result = False\n",
    "\n",
    "    if result:\n",
    "        log_in[username] = result\n",
    "\n",
    "    return result"
   ]
  },
  {
   "cell_type": "code",
   "execution_count": 38,
   "metadata": {},
   "outputs": [],
   "source": [
    "def update(bank, log_in, username, amount):\n",
    "\n",
    "    status = False\n",
    "\n",
    "    if username in log_in:\n",
    "        status = log_in[username]\n",
    "\n",
    "    if not(username in bank):\n",
    "        bank[username] = bank.get(username, 0)\n",
    "\n",
    "    if status:\n",
    "        temp = bank[username] + amount\n",
    "        if temp < 0:\n",
    "            status = False\n",
    "        else:\n",
    "            bank[username] += amount\n",
    "\n",
    "    return status"
   ]
  },
  {
   "cell_type": "code",
   "execution_count": null,
   "metadata": {},
   "outputs": [],
   "source": [
    "bank = import_and_create_bank(\"bank.txt\")\n",
    "user_accouts, log_in = import_and_create_accounts(\"users.txt\")\n",
    "\n"
   ]
  }
 ],
 "metadata": {
  "interpreter": {
   "hash": "70bd44d7b8936ce0ef5a810747a06bf791e34f7a77e3db5d7c719fb02184a935"
  },
  "kernelspec": {
   "display_name": "Python 3.10.4 64-bit",
   "language": "python",
   "name": "python3"
  },
  "language_info": {
   "codemirror_mode": {
    "name": "ipython",
    "version": 3
   },
   "file_extension": ".py",
   "mimetype": "text/x-python",
   "name": "python",
   "nbconvert_exporter": "python",
   "pygments_lexer": "ipython3",
   "version": "3.10.4"
  },
  "orig_nbformat": 4
 },
 "nbformat": 4,
 "nbformat_minor": 2
}
