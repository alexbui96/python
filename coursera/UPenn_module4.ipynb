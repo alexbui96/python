{
 "cells": [
  {
   "cell_type": "code",
   "execution_count": 3,
   "metadata": {},
   "outputs": [
    {
     "name": "stdout",
     "output_type": "stream",
     "text": [
      "{'Brandon': 115.5, 'Patrick': 18.9, 'Sarah': 827.43, 'Jack': 45.0, 'James': 128.87}\n"
     ]
    }
   ],
   "source": [
    "def import_and_create_bank(filename):\n",
    "    \n",
    "    bank = {}\n",
    "        \n",
    "    bank_file = open(filename,'r')\n",
    "    bank_temp = bank_file.readlines()\n",
    "        \n",
    "    for i in bank_temp:\n",
    "        bank_list = i.strip().split(\":\")\n",
    "\n",
    "        if(len(bank_list) <= 1):\n",
    "            continue\n",
    "\n",
    "        name = bank_list[0].strip()\n",
    "        deposit = bank_list[1].strip()\n",
    "\n",
    "        try:\n",
    "            deposit = float(deposit)\n",
    "\n",
    "            bank[name] = bank.get(name, 0) + deposit\n",
    "        \n",
    "        except:\n",
    "            continue\n",
    "        \n",
    "        \n",
    "    bank_file.close()\n",
    "\n",
    "    return bank\n",
    "\n",
    "print(import_and_create_bank(\"bank.txt\"))"
   ]
  },
  {
   "cell_type": "code",
   "execution_count": null,
   "metadata": {},
   "outputs": [],
   "source": [
    "def signup(user_accounts, log_in, username, password):\n",
    "\n",
    "    def valid(password):\n",
    "\n",
    "        if(len(password) < 8 and password == username and (password.issuper() or password.islower())):\n",
    "            return False\n",
    "        \n",
    "        else:\n",
    "\n",
    "\n"
   ]
  },
  {
   "cell_type": "code",
   "execution_count": 18,
   "metadata": {},
   "outputs": [
    {
     "data": {
      "text/plain": [
       "False"
      ]
     },
     "execution_count": 18,
     "metadata": {},
     "output_type": "execute_result"
    }
   ],
   "source": [
    "a = \"90aaaa\"\n",
    "\n",
    "a.isnumeric()"
   ]
  },
  {
   "cell_type": "code",
   "execution_count": null,
   "metadata": {},
   "outputs": [],
   "source": []
  }
 ],
 "metadata": {
  "interpreter": {
   "hash": "70bd44d7b8936ce0ef5a810747a06bf791e34f7a77e3db5d7c719fb02184a935"
  },
  "kernelspec": {
   "display_name": "Python 3.10.4 64-bit",
   "language": "python",
   "name": "python3"
  },
  "language_info": {
   "codemirror_mode": {
    "name": "ipython",
    "version": 3
   },
   "file_extension": ".py",
   "mimetype": "text/x-python",
   "name": "python",
   "nbconvert_exporter": "python",
   "pygments_lexer": "ipython3",
   "version": "3.10.4"
  },
  "orig_nbformat": 4
 },
 "nbformat": 4,
 "nbformat_minor": 2
}
