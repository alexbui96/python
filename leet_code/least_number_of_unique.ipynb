{
 "cells": [
  {
   "cell_type": "code",
   "execution_count": null,
   "metadata": {},
   "outputs": [],
   "source": [
    "'''\n",
    "Given an array of integers arr and an integer k. Find the least number of unique integers after removing exactly k elements.\n",
    "\n",
    "Example:\n",
    "\n",
    "Input: arr = [5,5,4], k = 1\n",
    "Output: 1\n",
    "Explanation: Remove the single 4, only 5 is left.\n",
    "\n",
    "Input: arr = [4,3,1,1,3,3,2], k = 3\n",
    "Output: 2\n",
    "Explanation: Remove 4, 2 and either one of the two 1s or three 3s. 1 and 3 will be left.\n",
    "'''"
   ]
  },
  {
   "cell_type": "code",
   "execution_count": 43,
   "metadata": {},
   "outputs": [],
   "source": [
    "class unique_number:\n",
    "    def findLeastNumOfUniqueInts(self, arr: list[int], k: int) -> int:\n",
    "        # create dict to store the frequency of each number\n",
    "        count_dict ={}\n",
    "        for num in arr:\n",
    "            count_dict[num] = count_dict.get(num, 0) + 1\n",
    "        # sort the dict from lowest to highest frequency\n",
    "        count_dict = {k: v for k, v in sorted(count_dict.items(), key = lambda x: x[1])}\n",
    "        # list of numbers\n",
    "        key = list(count_dict)\n",
    "        \n",
    "        # loop from the lowest frequency\n",
    "        for i in range(0, len(count_dict)):\n",
    "            # stop condition\n",
    "            if k == 0:\n",
    "                break \n",
    "            while k > 0:\n",
    "                # remove frequency\n",
    "                count_dict[key[i]] = count_dict.get(key[i], 0) - 1\n",
    "                k -= 1\n",
    "                # stop condition\n",
    "                if count_dict[key[i]] == 0:\n",
    "                    # remove number in dict\n",
    "                    del count_dict[key[i]]\n",
    "                    # go to the next number\n",
    "                    break\n",
    "\n",
    "        return len(count_dict)\n"
   ]
  },
  {
   "cell_type": "code",
   "execution_count": 44,
   "metadata": {},
   "outputs": [
    {
     "data": {
      "text/plain": [
       "2"
      ]
     },
     "execution_count": 44,
     "metadata": {},
     "output_type": "execute_result"
    }
   ],
   "source": [
    "num_list = unique_number()\n",
    "\n",
    "num_list.findLeastNumOfUniqueInts([4,3,1,1,3,3,2],3)"
   ]
  }
 ],
 "metadata": {
  "kernelspec": {
   "display_name": "Python 3.10.6 64-bit",
   "language": "python",
   "name": "python3"
  },
  "language_info": {
   "codemirror_mode": {
    "name": "ipython",
    "version": 3
   },
   "file_extension": ".py",
   "mimetype": "text/x-python",
   "name": "python",
   "nbconvert_exporter": "python",
   "pygments_lexer": "ipython3",
   "version": "3.10.6"
  },
  "orig_nbformat": 4,
  "vscode": {
   "interpreter": {
    "hash": "aee8b7b246df8f9039afb4144a1f6fd8d2ca17a180786b69acc140d282b71a49"
   }
  }
 },
 "nbformat": 4,
 "nbformat_minor": 2
}
