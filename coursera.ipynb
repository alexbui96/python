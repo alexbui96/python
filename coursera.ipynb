{
 "cells": [
  {
   "cell_type": "code",
   "execution_count": 5,
   "metadata": {},
   "outputs": [
    {
     "name": "stdout",
     "output_type": "stream",
     "text": [
      "Hello World!\n"
     ]
    }
   ],
   "source": [
    "print(\"Hello World!\")"
   ]
  },
  {
   "cell_type": "code",
   "execution_count": 5,
   "metadata": {},
   "outputs": [
    {
     "name": "stdout",
     "output_type": "stream",
     "text": [
      "Hello Alex\n"
     ]
    }
   ],
   "source": [
    "name = input(\"What is your name?\")\n",
    "print(\"Hello\", name)"
   ]
  },
  {
   "cell_type": "code",
   "execution_count": 9,
   "metadata": {},
   "outputs": [
    {
     "name": "stdout",
     "output_type": "stream",
     "text": [
      "Alex loves Toan\n"
     ]
    }
   ],
   "source": [
    "name1 = input(\"What is your name?\")\n",
    "name2 = input(\"What is your lover\\'s name?\")\n",
    "print(\"{} loves {}\".format(name1, name2))"
   ]
  },
  {
   "cell_type": "code",
   "execution_count": 10,
   "metadata": {},
   "outputs": [
    {
     "name": "stdout",
     "output_type": "stream",
     "text": [
      "The bill is: $200.0\n",
      "The sale tax (8.625%) is: $17.25\n",
      "The tip amount (15.0%) is: $30.0\n",
      "The total bill is: $247.25\n"
     ]
    }
   ],
   "source": [
    "bill = float(input(\"How much is the subtotal?\"))\n",
    "tax = float(input(\"What is the sales tax? (in percentage)\"))\n",
    "tip = float(input(\"How much is the tip? (in percentage)\"))\n",
    "\n",
    "tax_amount = bill * (tax/100)\n",
    "tip_amount = bill * (tip/100)\n",
    "total_bill = round(bill + tax_amount + tip_amount, 2)\n",
    "\n",
    "print(\"The bill is: ${}\\nThe sale tax ({}%) is: ${}\\nThe tip amount ({}%) is: ${}\\nThe total bill is: ${}\".format(bill, tax, tax_amount, tip, tip_amount, total_bill))\n",
    "\n"
   ]
  },
  {
   "cell_type": "code",
   "execution_count": 13,
   "metadata": {},
   "outputs": [
    {
     "name": "stdout",
     "output_type": "stream",
     "text": [
      "F\n"
     ]
    }
   ],
   "source": [
    "grade = int(input(\"What is the grade?\"))\n",
    "letter_grade = str\n",
    "\n",
    "if (grade >= 90): \n",
    "    letter_grade = \"A\"\n",
    "elif (grade >= 80): \n",
    "    letter_grade = \"B\"\n",
    "elif (grade >= 70 ): \n",
    "    letter_grade = \"C\"\n",
    "elif (grade >= 60 ): \n",
    "    letter_grade = \"D\"\n",
    "else: \n",
    "    letter_grade =\"F\"\n",
    "\n",
    "print(letter_grade)\n"
   ]
  },
  {
   "cell_type": "code",
   "execution_count": 22,
   "metadata": {},
   "outputs": [
    {
     "name": "stdout",
     "output_type": "stream",
     "text": [
      "b is either invalid input or negative integer!\n"
     ]
    }
   ],
   "source": [
    "number = input(\"Enter an positive integer: \")\n",
    "\n",
    "if(number.isnumeric()): \n",
    "    number = int(number)\n",
    "    if (number > 20): \n",
    "        print(\"Your input is: {} > 20\".format(number))\n",
    "    elif (number > 10): \n",
    "        print(\"Your input is: {} > 10\".format(number))\n",
    "    elif (number > 0): \n",
    "        print(\"Your input is: {} > 0\".format(number))\n",
    "else: \n",
    "    print(\"{} is either invalid input or negative integer!\".format(number))"
   ]
  },
  {
   "cell_type": "code",
   "execution_count": 24,
   "metadata": {},
   "outputs": [
    {
     "name": "stdout",
     "output_type": "stream",
     "text": [
      "Your input is: -5 < 0\n"
     ]
    }
   ],
   "source": [
    "number = input(\"Enter an positive integer: \")\n",
    "\n",
    "try: \n",
    "    number = int(number)\n",
    "    if (number > 20): \n",
    "        print(\"Your input is: {} > 20\".format(number))\n",
    "    elif (number > 10): \n",
    "        print(\"Your input is: {} > 10\".format(number))\n",
    "    elif (number > 0): \n",
    "        print(\"Your input is: {} > 0\".format(number))\n",
    "    elif (number < 0): \n",
    "        print(\"Your input is: {} < 0\".format(number))\n",
    "    elif (number == 0): \n",
    "        print(\"Your input is: {} = 0\".format(number))\n",
    "\n",
    "except ValueError as e: \n",
    "    print(\"{} is invalid input!\".format(number))"
   ]
  },
  {
   "cell_type": "code",
   "execution_count": 25,
   "metadata": {},
   "outputs": [
    {
     "name": "stdout",
     "output_type": "stream",
     "text": [
      "A\n"
     ]
    }
   ],
   "source": [
    "# create a function\n",
    "def letter_grade_calculation():\n",
    "\n",
    "    grade = int(input(\"What is the grade?\"))\n",
    "\n",
    "    if (grade >= 90): \n",
    "        letter_grade = \"A\"\n",
    "    elif (grade >= 80): \n",
    "        letter_grade = \"B\"\n",
    "    elif (grade >= 70 ): \n",
    "        letter_grade = \"C\"\n",
    "    elif (grade >= 60 ): \n",
    "        letter_grade = \"D\"\n",
    "    else: \n",
    "        letter_grade =\"F\"\n",
    "\n",
    "    print(letter_grade)\n",
    "\n",
    "letter_grade_calculation()"
   ]
  },
  {
   "cell_type": "code",
   "execution_count": 29,
   "metadata": {},
   "outputs": [
    {
     "name": "stdout",
     "output_type": "stream",
     "text": [
      "A\n"
     ]
    }
   ],
   "source": [
    "def letter_grade_calculation(grade):\n",
    "\n",
    "    if (grade >= 90): \n",
    "        letter_grade = \"A\"\n",
    "    elif (grade >= 80): \n",
    "        letter_grade = \"B\"\n",
    "    elif (grade >= 70 ): \n",
    "        letter_grade = \"C\"\n",
    "    elif (grade >= 60 ): \n",
    "        letter_grade = \"D\"\n",
    "    else: \n",
    "        letter_grade =\"F\"\n",
    "\n",
    "    print(letter_grade)\n",
    "\n",
    "letter_grade_calculation(90)"
   ]
  },
  {
   "cell_type": "code",
   "execution_count": 31,
   "metadata": {},
   "outputs": [
    {
     "name": "stdout",
     "output_type": "stream",
     "text": [
      "A\n"
     ]
    }
   ],
   "source": [
    "grade = int(input(\"What is the grade?\"))\n",
    "\n",
    "def letter_grade_calculation(grade):\n",
    "\n",
    "    if (grade >= 90): \n",
    "        letter_grade = \"A\"\n",
    "    elif (grade >= 80): \n",
    "        letter_grade = \"B\"\n",
    "    elif (grade >= 70 ): \n",
    "        letter_grade = \"C\"\n",
    "    elif (grade >= 60 ): \n",
    "        letter_grade = \"D\"\n",
    "    else: \n",
    "        letter_grade =\"F\"\n",
    "\n",
    "    print(letter_grade)\n",
    "\n",
    "letter_grade_calculation(grade)"
   ]
  },
  {
   "cell_type": "code",
   "execution_count": null,
   "metadata": {},
   "outputs": [],
   "source": []
  }
 ],
 "metadata": {
  "interpreter": {
   "hash": "70bd44d7b8936ce0ef5a810747a06bf791e34f7a77e3db5d7c719fb02184a935"
  },
  "kernelspec": {
   "display_name": "Python 3.10.4 64-bit",
   "language": "python",
   "name": "python3"
  },
  "language_info": {
   "codemirror_mode": {
    "name": "ipython",
    "version": 3
   },
   "file_extension": ".py",
   "mimetype": "text/x-python",
   "name": "python",
   "nbconvert_exporter": "python",
   "pygments_lexer": "ipython3",
   "version": "3.10.4"
  },
  "orig_nbformat": 4
 },
 "nbformat": 4,
 "nbformat_minor": 2
}
